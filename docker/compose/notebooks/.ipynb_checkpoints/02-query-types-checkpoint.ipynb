{
 "cells": [
  {
   "cell_type": "markdown",
   "id": "1f4d8451-7984-4864-b0b3-1aa4c20a7eee",
   "metadata": {},
   "source": [
    "# Deep Dive into Hudi Table & Query Types: Snapshot, RO, Incremental, Time Travel, CDC\n",
    "This notebook is your guide to mastering Hudi's advanced query capabilities. We'll explore hands-on examples of the different read modes—Snapshot, Read-Optimized, Incremental, Time Travel, and Change Data Capture - to help you understand when to use each for building efficient data pipelines."
   ]
  },
  {
   "cell_type": "markdown",
   "id": "d28ed197-96b0-4a97-97c9-ca99fab56e0d",
   "metadata": {},
   "source": [
    "## Setting up the Environment\n",
    "We begin by loading the utils.ipynb notebook, which contains the necessary imports and functions to start a SparkSession."
   ]
  },
  {
   "cell_type": "code",
   "execution_count": 1,
   "id": "f01f1282-5d43-4235-8f6a-f4bb45de8a6a",
   "metadata": {},
   "outputs": [],
   "source": [
    "%run utils.ipynb"
   ]
  },
  {
   "cell_type": "markdown",
   "id": "7892e640-b7f1-49e0-b290-a5d8e9693e9b",
   "metadata": {},
   "source": [
    "Now, let's start the SparkSession. We'll give it the app name 'Query-Types' and configure it to use our Hudi and MinIO settings."
   ]
  },
  {
   "cell_type": "code",
   "execution_count": 2,
   "id": "f1f21642-3ce7-4db2-9e65-9a3c5488e0ae",
   "metadata": {},
   "outputs": [
    {
     "name": "stderr",
     "output_type": "stream",
     "text": [
      "25/08/14 11:24:29 WARN NativeCodeLoader: Unable to load native-hadoop library for your platform... using builtin-java classes where applicable\n",
      "Setting default log level to \"WARN\".\n",
      "To adjust logging level use sc.setLogLevel(newLevel). For SparkR, use setLogLevel(newLevel).\n",
      "25/08/14 11:24:29 WARN Utils: Service 'SparkUI' could not bind on port 4040. Attempting port 4041.\n",
      "25/08/14 11:24:29 WARN Utils: Service 'SparkUI' could not bind on port 4041. Attempting port 4042.\n"
     ]
    }
   ],
   "source": [
    "%%capture\n",
    "spark = get_spark(\"Query-Types\")"
   ]
  },
  {
   "cell_type": "markdown",
   "id": "11fd039d-c487-41ba-bb75-0cf797ae6ce3",
   "metadata": {},
   "source": [
    "Before we can start querying, we need to create our Hudi tables. For this deep dive, we'll create one table for each of Hudi's main storage types:\n",
    "\n",
    "- **trips_table_cow:** Our Copy-on-Write (COW) table, which we'll use to demonstrate how Hudi rewrites files on updates.\n",
    "- **trips_table_mor:** Our Merge-on-Read (MOR) table, which will help us understand how Hudi uses log files for faster updates and different read views.\n",
    "\n",
    "After creating both tables, we'll be ready to explore all the query types."
   ]
  },
  {
   "cell_type": "markdown",
   "id": "e9a7988e-f13a-47e6-afed-e3a5d8a16807",
   "metadata": {},
   "source": [
    "This is the sample ride data we will use to create our Hudi table. It includes details like the timestamp, a unique ID, rider, driver, fare, and city."
   ]
  },
  {
   "cell_type": "code",
   "execution_count": 3,
   "id": "0b1e8599-715a-45b8-aab0-adbcb0fddd71",
   "metadata": {},
   "outputs": [],
   "source": [
    "columns = [\"ts\", \"uuid\", \"rider\", \"driver\", \"fare\", \"city\"]\n",
    "data = [\n",
    "    (\"2025-08-10 08:15:30\", \"uuid-001\", \"rider-A\", \"driver-X\", 18.50, \"new_york\"),\n",
    "    (\"2025-08-10 09:22:10\", \"uuid-002\", \"rider-B\", \"driver-Y\", 22.75, \"san_francisco\"),\n",
    "    (\"2025-08-10 10:05:45\", \"uuid-003\", \"rider-C\", \"driver-Z\", 14.60, \"chicago\"),\n",
    "    (\"2025-08-10 11:40:00\", \"uuid-004\", \"rider-D\", \"driver-W\", 31.90, \"new_york\"),\n",
    "    (\"2025-08-10 12:55:15\", \"uuid-005\", \"rider-E\", \"driver-V\", 25.10, \"san_francisco\"),\n",
    "    (\"2025-08-10 13:20:35\", \"uuid-006\", \"rider-F\", \"driver-U\", 19.80, \"chicago\"),\n",
    "    (\"2025-08-10 14:10:05\", \"uuid-007\", \"rider-G\", \"driver-T\", 28.45, \"san_francisco\"),\n",
    "    (\"2025-08-10 15:00:20\", \"uuid-008\", \"rider-H\", \"driver-S\", 16.25, \"new_york\"),\n",
    "    (\"2025-08-10 15:45:50\", \"uuid-009\", \"rider-I\", \"driver-R\", 24.35, \"chicago\"),\n",
    "    (\"2025-08-10 16:30:00\", \"uuid-010\", \"rider-J\", \"driver-Q\", 20.00, \"new_york\"),\n",
    "]"
   ]
  },
  {
   "cell_type": "code",
   "execution_count": 5,
   "id": "3b81a930-2c19-4563-a414-56f478bb7dd3",
   "metadata": {},
   "outputs": [
    {
     "data": {
      "text/html": [
       "\n",
       "    <style>\n",
       "        .dataframe {\n",
       "            border-radius: 0.5rem;\n",
       "            box-shadow: 0 4px 6px -1px rgba(0, 0, 0, 0.1), 0 2px 4px -1px rgba(0, 0, 0, 0.06);\n",
       "            overflow-x: auto;\n",
       "            border: 1px solid #e2e8f0;\n",
       "        }\n",
       "        .dataframe th {\n",
       "            background-color: #f1f5f9;\n",
       "            color: #1f2937;\n",
       "            font-weight: 600;\n",
       "            padding: 0.75rem 1.5rem;\n",
       "            text-align: left;\n",
       "            border-bottom: 2px solid #e2e8f0;\n",
       "        }\n",
       "        .dataframe td {\n",
       "            padding: 0.75rem 1.5rem;\n",
       "            border-bottom: 1px solid #e2e8f0;\n",
       "        }\n",
       "        .dataframe tr:nth-child(even) {\n",
       "            background-color: #f8fafc;\n",
       "        }\n",
       "        .dataframe tr:hover {\n",
       "            background-color: #e2e8f0;\n",
       "            transition: background-color 0.2s ease-in-out;\n",
       "        }\n",
       "    </style>\n",
       "    <table border=\"1\" class=\"dataframe w-full border-collapse text-sm text-gray-900 dark:text-white\">\n",
       "  <thead>\n",
       "    <tr style=\"text-align: right;\">\n",
       "      <th>ts</th>\n",
       "      <th>uuid</th>\n",
       "      <th>rider</th>\n",
       "      <th>driver</th>\n",
       "      <th>fare</th>\n",
       "      <th>city</th>\n",
       "    </tr>\n",
       "  </thead>\n",
       "  <tbody>\n",
       "    <tr>\n",
       "      <td>2025-08-10 08:15:30</td>\n",
       "      <td>uuid-001</td>\n",
       "      <td>rider-A</td>\n",
       "      <td>driver-X</td>\n",
       "      <td>18.50</td>\n",
       "      <td>new_york</td>\n",
       "    </tr>\n",
       "    <tr>\n",
       "      <td>2025-08-10 09:22:10</td>\n",
       "      <td>uuid-002</td>\n",
       "      <td>rider-B</td>\n",
       "      <td>driver-Y</td>\n",
       "      <td>22.75</td>\n",
       "      <td>san_francisco</td>\n",
       "    </tr>\n",
       "    <tr>\n",
       "      <td>2025-08-10 10:05:45</td>\n",
       "      <td>uuid-003</td>\n",
       "      <td>rider-C</td>\n",
       "      <td>driver-Z</td>\n",
       "      <td>14.60</td>\n",
       "      <td>chicago</td>\n",
       "    </tr>\n",
       "    <tr>\n",
       "      <td>2025-08-10 11:40:00</td>\n",
       "      <td>uuid-004</td>\n",
       "      <td>rider-D</td>\n",
       "      <td>driver-W</td>\n",
       "      <td>31.90</td>\n",
       "      <td>new_york</td>\n",
       "    </tr>\n",
       "    <tr>\n",
       "      <td>2025-08-10 12:55:15</td>\n",
       "      <td>uuid-005</td>\n",
       "      <td>rider-E</td>\n",
       "      <td>driver-V</td>\n",
       "      <td>25.10</td>\n",
       "      <td>san_francisco</td>\n",
       "    </tr>\n",
       "    <tr>\n",
       "      <td>2025-08-10 13:20:35</td>\n",
       "      <td>uuid-006</td>\n",
       "      <td>rider-F</td>\n",
       "      <td>driver-U</td>\n",
       "      <td>19.80</td>\n",
       "      <td>chicago</td>\n",
       "    </tr>\n",
       "    <tr>\n",
       "      <td>2025-08-10 14:10:05</td>\n",
       "      <td>uuid-007</td>\n",
       "      <td>rider-G</td>\n",
       "      <td>driver-T</td>\n",
       "      <td>28.45</td>\n",
       "      <td>san_francisco</td>\n",
       "    </tr>\n",
       "    <tr>\n",
       "      <td>2025-08-10 15:00:20</td>\n",
       "      <td>uuid-008</td>\n",
       "      <td>rider-H</td>\n",
       "      <td>driver-S</td>\n",
       "      <td>16.25</td>\n",
       "      <td>new_york</td>\n",
       "    </tr>\n",
       "    <tr>\n",
       "      <td>2025-08-10 15:45:50</td>\n",
       "      <td>uuid-009</td>\n",
       "      <td>rider-I</td>\n",
       "      <td>driver-R</td>\n",
       "      <td>24.35</td>\n",
       "      <td>chicago</td>\n",
       "    </tr>\n",
       "    <tr>\n",
       "      <td>2025-08-10 16:30:00</td>\n",
       "      <td>uuid-010</td>\n",
       "      <td>rider-J</td>\n",
       "      <td>driver-Q</td>\n",
       "      <td>20.00</td>\n",
       "      <td>new_york</td>\n",
       "    </tr>\n",
       "  </tbody>\n",
       "</table>"
      ],
      "text/plain": [
       "<IPython.core.display.HTML object>"
      ]
     },
     "metadata": {},
     "output_type": "display_data"
    }
   ],
   "source": [
    "inputDF = spark.createDataFrame(data).toDF(*columns)\n",
    "display(inputDF)"
   ]
  },
  {
   "cell_type": "markdown",
   "id": "962397cc-30ec-4b35-928d-e5eae8c85ce4",
   "metadata": {},
   "source": [
    "Hudi offers two primary table types to choose from:\n",
    "\n",
    "- **Copy-on-Write (COW)**\n",
    "- **Merge-on-Read (MOR)**"
   ]
  },
  {
   "cell_type": "markdown",
   "id": "dc18d31f-f9e9-4820-a697-4e2e288a3a15",
   "metadata": {},
   "source": [
    "### Hudi Configuration for a COW Table"
   ]
  },
  {
   "cell_type": "code",
   "execution_count": 7,
   "id": "efaeab1f-0b94-44ba-bb70-1764eaadce47",
   "metadata": {},
   "outputs": [],
   "source": [
    "table_name_cow = \"trips_table_cow\"\n",
    "base_path = f\"s3a://warehouse/hudi-db\"\n",
    "\n",
    "cow_hudi_conf = {\n",
    "    \"hoodie.table.name\": table_name_cow, # The name of our Hudi table.\n",
    "    \"hoodie.datasource.write.recordkey.field\": \"uuid\", # The column that acts as the unique identifier for each record.\n",
    "    \"hoodie.datasource.write.table.type\": \"COPY_ON_WRITE\", # Hudi uses Copy-on-Write as the default table type, but we are being explicit here.\n",
    "    \"hoodie.datasource.write.partitionpath.field\": \"city\", # The column Hudi uses to partition the data on storage.\n",
    "    \"hoodie.datasource.write.precombine.field\": \"ts\", # The field used to deduplicate records when a conflict occurs.\n",
    "    \"hoodie.write.markers.type\": \"DIRECT\",\n",
    "    \"hoodie.table.cdc.enabled\": \"true\",\n",
    "    \"hoodie.datasource.write.hive_style_partitioning\": \"true\" # This ensures partition directories are named like `city=new_york`.\n",
    "}"
   ]
  },
  {
   "cell_type": "markdown",
   "id": "ef3038e4-d683-4652-a830-2c7b863fd7a5",
   "metadata": {},
   "source": [
    "### Inserting data in a COW Table (Fresh Insert)"
   ]
  },
  {
   "cell_type": "code",
   "execution_count": 8,
   "id": "dec4a0dd-a68c-4473-a110-9aa213b1b3da",
   "metadata": {},
   "outputs": [
    {
     "name": "stdout",
     "output_type": "stream",
     "text": [
      "# WARNING: Unable to attach Serviceability Agent. Unable to attach even with module exceptions: [org.apache.hudi.org.openjdk.jol.vm.sa.SASupportException: Sense failed., org.apache.hudi.org.openjdk.jol.vm.sa.SASupportException: Sense failed., org.apache.hudi.org.openjdk.jol.vm.sa.SASupportException: Sense failed.]\n"
     ]
    },
    {
     "name": "stderr",
     "output_type": "stream",
     "text": [
      "                                                                                "
     ]
    }
   ],
   "source": [
    "# Write the DataFrame to a Hudi COW table\n",
    "# The default operation is \"upsert\" if this is not specified.\n",
    "inputDF.write \\\n",
    "    .format(\"hudi\") \\\n",
    "    .option(\"hoodie.datasource.write.operation\", \"insert\") \\\n",
    "    .options(**cow_hudi_conf) \\\n",
    "    .mode(\"overwrite\") \\\n",
    "    .save(f\"{base_path}/{table_name_cow}\")"
   ]
  },
  {
   "cell_type": "markdown",
   "id": "fd186fff-56a2-47f8-8946-513ef7f931ae",
   "metadata": {},
   "source": [
    "### Hudi Configuration for a MOR Table"
   ]
  },
  {
   "cell_type": "code",
   "execution_count": 9,
   "id": "c801684b-218c-4117-8dbe-98fdec410118",
   "metadata": {},
   "outputs": [],
   "source": [
    "table_name_mor = \"trips_table_mor\"\n",
    "base_path = f\"s3a://warehouse/hudi-db\"\n",
    "\n",
    "mor_hudi_conf = {\n",
    "    \"hoodie.table.name\": table_name_mor,\n",
    "    \"hoodie.datasource.write.recordkey.field\": \"uuid\",\n",
    "    \"hoodie.datasource.write.table.type\": \"MERGE_ON_READ\",\n",
    "    \"hoodie.datasource.write.partitionpath.field\": \"city\",\n",
    "    \"hoodie.datasource.write.precombine.field\": \"ts\",\n",
    "    \"hoodie.write.markers.type\": \"DIRECT\",\n",
    "    \"hoodie.datasource.write.hive_style_partitioning\": \"true\"\n",
    "}"
   ]
  },
  {
   "cell_type": "markdown",
   "id": "0e0ac81d-70fc-421f-b841-bc73a146fa6b",
   "metadata": {},
   "source": [
    "### Inserting Data into a MOR Table (Fresh Insert)"
   ]
  },
  {
   "cell_type": "code",
   "execution_count": 10,
   "id": "ded10362-baf1-437b-a548-801c0eb4af67",
   "metadata": {},
   "outputs": [],
   "source": [
    "# Write the DataFrame to a Hudi MOR table\n",
    "inputDF.write \\\n",
    "    .format(\"hudi\") \\\n",
    "    .option(\"hoodie.datasource.write.operation\", \"insert\") \\\n",
    "    .options(**mor_hudi_conf) \\\n",
    "    .mode(\"overwrite\") \\\n",
    "    .save(f\"{base_path}/{table_name_mor}\")"
   ]
  },
  {
   "cell_type": "markdown",
   "id": "158c35d3-7482-4532-8fcb-e6a36c178fb7",
   "metadata": {},
   "source": [
    "Now that our tables are set up, we can begin our deep dive into Hudi's powerful query types. In this section, we will discuss:\n",
    "\n",
    "- **Snapshot Query:** The default read mode for viewing the latest state of the table.\n",
    "- **Incremental Query:** A way to get only the new data added since a specific point in time.\n",
    "- **Time Travel Query:** How to view the table as it existed at a past moment.\n",
    "- **Read-Optimized (RO) Query:** A specialized mode for faster reads on MOR tables.\n",
    "- **Change Data Capture (CDC) Query:** How to retrieve a detailed stream of changes (updates, inserts, and deletes)."
   ]
  },
  {
   "cell_type": "markdown",
   "id": "3f1b2020-8ea6-420a-a061-ba6f20d9d835",
   "metadata": {},
   "source": [
    "### Snapshot Query\n",
    "This is the default query type when reading Hudi tables. Its goal is to give you a complete, up-to-the-minute view of your data. When you run this query on a Merge-on-Read (MOR) table, Hudi merges the recent changes from the log files with the base data files to present the latest records, which can affect performance.\n",
    "\n",
    "Let's do a quick snapshot query to see the current state of our tables."
   ]
  },
  {
   "cell_type": "code",
   "execution_count": 11,
   "id": "0fa7d38f-9988-4691-8a11-7b7fceff57c7",
   "metadata": {},
   "outputs": [
    {
     "data": {
      "text/html": [
       "\n",
       "    <style>\n",
       "        .dataframe {\n",
       "            border-radius: 0.5rem;\n",
       "            box-shadow: 0 4px 6px -1px rgba(0, 0, 0, 0.1), 0 2px 4px -1px rgba(0, 0, 0, 0.06);\n",
       "            overflow-x: auto;\n",
       "            border: 1px solid #e2e8f0;\n",
       "        }\n",
       "        .dataframe th {\n",
       "            background-color: #f1f5f9;\n",
       "            color: #1f2937;\n",
       "            font-weight: 600;\n",
       "            padding: 0.75rem 1.5rem;\n",
       "            text-align: left;\n",
       "            border-bottom: 2px solid #e2e8f0;\n",
       "        }\n",
       "        .dataframe td {\n",
       "            padding: 0.75rem 1.5rem;\n",
       "            border-bottom: 1px solid #e2e8f0;\n",
       "        }\n",
       "        .dataframe tr:nth-child(even) {\n",
       "            background-color: #f8fafc;\n",
       "        }\n",
       "        .dataframe tr:hover {\n",
       "            background-color: #e2e8f0;\n",
       "            transition: background-color 0.2s ease-in-out;\n",
       "        }\n",
       "    </style>\n",
       "    <table border=\"1\" class=\"dataframe w-full border-collapse text-sm text-gray-900 dark:text-white\">\n",
       "  <thead>\n",
       "    <tr style=\"text-align: right;\">\n",
       "      <th>_hoodie_commit_time</th>\n",
       "      <th>uuid</th>\n",
       "      <th>rider</th>\n",
       "      <th>driver</th>\n",
       "      <th>fare</th>\n",
       "      <th>city</th>\n",
       "      <th>ts</th>\n",
       "    </tr>\n",
       "  </thead>\n",
       "  <tbody>\n",
       "    <tr>\n",
       "      <td>20250814124928814</td>\n",
       "      <td>uuid-002</td>\n",
       "      <td>rider-B</td>\n",
       "      <td>driver-Y</td>\n",
       "      <td>22.75</td>\n",
       "      <td>san_francisco</td>\n",
       "      <td>2025-08-10 09:22:10</td>\n",
       "    </tr>\n",
       "    <tr>\n",
       "      <td>20250814124928814</td>\n",
       "      <td>uuid-005</td>\n",
       "      <td>rider-E</td>\n",
       "      <td>driver-V</td>\n",
       "      <td>25.10</td>\n",
       "      <td>san_francisco</td>\n",
       "      <td>2025-08-10 12:55:15</td>\n",
       "    </tr>\n",
       "    <tr>\n",
       "      <td>20250814124928814</td>\n",
       "      <td>uuid-007</td>\n",
       "      <td>rider-G</td>\n",
       "      <td>driver-T</td>\n",
       "      <td>28.45</td>\n",
       "      <td>san_francisco</td>\n",
       "      <td>2025-08-10 14:10:05</td>\n",
       "    </tr>\n",
       "    <tr>\n",
       "      <td>20250814124928814</td>\n",
       "      <td>uuid-001</td>\n",
       "      <td>rider-A</td>\n",
       "      <td>driver-X</td>\n",
       "      <td>18.50</td>\n",
       "      <td>new_york</td>\n",
       "      <td>2025-08-10 08:15:30</td>\n",
       "    </tr>\n",
       "    <tr>\n",
       "      <td>20250814124928814</td>\n",
       "      <td>uuid-004</td>\n",
       "      <td>rider-D</td>\n",
       "      <td>driver-W</td>\n",
       "      <td>31.90</td>\n",
       "      <td>new_york</td>\n",
       "      <td>2025-08-10 11:40:00</td>\n",
       "    </tr>\n",
       "    <tr>\n",
       "      <td>20250814124928814</td>\n",
       "      <td>uuid-008</td>\n",
       "      <td>rider-H</td>\n",
       "      <td>driver-S</td>\n",
       "      <td>16.25</td>\n",
       "      <td>new_york</td>\n",
       "      <td>2025-08-10 15:00:20</td>\n",
       "    </tr>\n",
       "    <tr>\n",
       "      <td>20250814124928814</td>\n",
       "      <td>uuid-010</td>\n",
       "      <td>rider-J</td>\n",
       "      <td>driver-Q</td>\n",
       "      <td>20.00</td>\n",
       "      <td>new_york</td>\n",
       "      <td>2025-08-10 16:30:00</td>\n",
       "    </tr>\n",
       "    <tr>\n",
       "      <td>20250814124928814</td>\n",
       "      <td>uuid-003</td>\n",
       "      <td>rider-C</td>\n",
       "      <td>driver-Z</td>\n",
       "      <td>14.60</td>\n",
       "      <td>chicago</td>\n",
       "      <td>2025-08-10 10:05:45</td>\n",
       "    </tr>\n",
       "    <tr>\n",
       "      <td>20250814124928814</td>\n",
       "      <td>uuid-006</td>\n",
       "      <td>rider-F</td>\n",
       "      <td>driver-U</td>\n",
       "      <td>19.80</td>\n",
       "      <td>chicago</td>\n",
       "      <td>2025-08-10 13:20:35</td>\n",
       "    </tr>\n",
       "    <tr>\n",
       "      <td>20250814124928814</td>\n",
       "      <td>uuid-009</td>\n",
       "      <td>rider-I</td>\n",
       "      <td>driver-R</td>\n",
       "      <td>24.35</td>\n",
       "      <td>chicago</td>\n",
       "      <td>2025-08-10 15:45:50</td>\n",
       "    </tr>\n",
       "  </tbody>\n",
       "</table>"
      ],
      "text/plain": [
       "<IPython.core.display.HTML object>"
      ]
     },
     "metadata": {},
     "output_type": "display_data"
    }
   ],
   "source": [
    "cowSnapshotQueryDF = spark.read \\\n",
    "        .format(\"hudi\") \\\n",
    "        .load(f\"{base_path}/{table_name_cow}\" + \"/*/*\")\n",
    "\n",
    "display(cowSnapshotQueryDF.select(\"_hoodie_commit_time\", \"uuid\", \"rider\", \"driver\", \"fare\", \"city\", \"ts\"))"
   ]
  },
  {
   "cell_type": "markdown",
   "id": "fa871e07-1d7c-42ba-aebc-dd4de98f8af1",
   "metadata": {},
   "source": [
    "Now update one record in the COW table."
   ]
  },
  {
   "cell_type": "code",
   "execution_count": 15,
   "id": "3429d001-5e3c-40ba-a9eb-765fc6f3454c",
   "metadata": {},
   "outputs": [
    {
     "data": {
      "text/html": [
       "\n",
       "    <style>\n",
       "        .dataframe {\n",
       "            border-radius: 0.5rem;\n",
       "            box-shadow: 0 4px 6px -1px rgba(0, 0, 0, 0.1), 0 2px 4px -1px rgba(0, 0, 0, 0.06);\n",
       "            overflow-x: auto;\n",
       "            border: 1px solid #e2e8f0;\n",
       "        }\n",
       "        .dataframe th {\n",
       "            background-color: #f1f5f9;\n",
       "            color: #1f2937;\n",
       "            font-weight: 600;\n",
       "            padding: 0.75rem 1.5rem;\n",
       "            text-align: left;\n",
       "            border-bottom: 2px solid #e2e8f0;\n",
       "        }\n",
       "        .dataframe td {\n",
       "            padding: 0.75rem 1.5rem;\n",
       "            border-bottom: 1px solid #e2e8f0;\n",
       "        }\n",
       "        .dataframe tr:nth-child(even) {\n",
       "            background-color: #f8fafc;\n",
       "        }\n",
       "        .dataframe tr:hover {\n",
       "            background-color: #e2e8f0;\n",
       "            transition: background-color 0.2s ease-in-out;\n",
       "        }\n",
       "    </style>\n",
       "    <table border=\"1\" class=\"dataframe w-full border-collapse text-sm text-gray-900 dark:text-white\">\n",
       "  <thead>\n",
       "    <tr style=\"text-align: right;\">\n",
       "      <th>uuid</th>\n",
       "      <th>rider</th>\n",
       "      <th>driver</th>\n",
       "      <th>fare</th>\n",
       "      <th>city</th>\n",
       "      <th>ts</th>\n",
       "    </tr>\n",
       "  </thead>\n",
       "  <tbody>\n",
       "    <tr>\n",
       "      <td>uuid-007</td>\n",
       "      <td>rider-G</td>\n",
       "      <td>driver-T</td>\n",
       "      <td>284.5</td>\n",
       "      <td>san_francisco</td>\n",
       "      <td>2025-08-10 14:10:05</td>\n",
       "    </tr>\n",
       "  </tbody>\n",
       "</table>"
      ],
      "text/plain": [
       "<IPython.core.display.HTML object>"
      ]
     },
     "metadata": {},
     "output_type": "display_data"
    }
   ],
   "source": [
    "from pyspark.sql.functions import col\n",
    "updatesDF = spark.read.format(\"hudi\").load(f\"{base_path}/{table_name_cow}\").filter(col(\"rider\") == \"rider-G\").withColumn(\"fare\", col(\"fare\") * 10)\n",
    "\n",
    "display(updatesDF.select(\"uuid\", \"rider\", \"driver\", \"fare\", \"city\", \"ts\"))"
   ]
  },
  {
   "cell_type": "code",
   "execution_count": 17,
   "id": "2010a96f-f0c8-41ab-beb9-6606a86d110a",
   "metadata": {},
   "outputs": [],
   "source": [
    "updatesDF.write \\\n",
    "    .format(\"hudi\") \\\n",
    "    .option(\"hoodie.datasource.write.operation\", \"upsert\") \\\n",
    "    .options(**cow_hudi_conf) \\\n",
    "    .mode(\"append\") \\\n",
    "    .save(f\"{base_path}/{table_name_cow}\")"
   ]
  },
  {
   "cell_type": "markdown",
   "id": "2d9b7339-13c5-40ab-9c93-3f2c541a3ae6",
   "metadata": {},
   "source": [
    "Again execute the snapshot query to confirm if it results the latest view of the table and YES, We can see that it fetches the updated fare."
   ]
  },
  {
   "cell_type": "code",
   "execution_count": 19,
   "id": "14b4b122-38d9-465e-98f9-b862f7fce440",
   "metadata": {},
   "outputs": [
    {
     "data": {
      "text/html": [
       "\n",
       "    <style>\n",
       "        .dataframe {\n",
       "            border-radius: 0.5rem;\n",
       "            box-shadow: 0 4px 6px -1px rgba(0, 0, 0, 0.1), 0 2px 4px -1px rgba(0, 0, 0, 0.06);\n",
       "            overflow-x: auto;\n",
       "            border: 1px solid #e2e8f0;\n",
       "        }\n",
       "        .dataframe th {\n",
       "            background-color: #f1f5f9;\n",
       "            color: #1f2937;\n",
       "            font-weight: 600;\n",
       "            padding: 0.75rem 1.5rem;\n",
       "            text-align: left;\n",
       "            border-bottom: 2px solid #e2e8f0;\n",
       "        }\n",
       "        .dataframe td {\n",
       "            padding: 0.75rem 1.5rem;\n",
       "            border-bottom: 1px solid #e2e8f0;\n",
       "        }\n",
       "        .dataframe tr:nth-child(even) {\n",
       "            background-color: #f8fafc;\n",
       "        }\n",
       "        .dataframe tr:hover {\n",
       "            background-color: #e2e8f0;\n",
       "            transition: background-color 0.2s ease-in-out;\n",
       "        }\n",
       "    </style>\n",
       "    <table border=\"1\" class=\"dataframe w-full border-collapse text-sm text-gray-900 dark:text-white\">\n",
       "  <thead>\n",
       "    <tr style=\"text-align: right;\">\n",
       "      <th>_hoodie_commit_time</th>\n",
       "      <th>uuid</th>\n",
       "      <th>rider</th>\n",
       "      <th>driver</th>\n",
       "      <th>fare</th>\n",
       "      <th>city</th>\n",
       "      <th>ts</th>\n",
       "    </tr>\n",
       "  </thead>\n",
       "  <tbody>\n",
       "    <tr>\n",
       "      <td>20250814134348351</td>\n",
       "      <td>uuid-007</td>\n",
       "      <td>rider-G</td>\n",
       "      <td>driver-T</td>\n",
       "      <td>284.5</td>\n",
       "      <td>san_francisco</td>\n",
       "      <td>2025-08-10 14:10:05</td>\n",
       "    </tr>\n",
       "  </tbody>\n",
       "</table>"
      ],
      "text/plain": [
       "<IPython.core.display.HTML object>"
      ]
     },
     "metadata": {},
     "output_type": "display_data"
    }
   ],
   "source": [
    "cowSnapshotQueryDF = spark.read \\\n",
    "        .format(\"hudi\") \\\n",
    "        .load(f\"{base_path}/{table_name_cow}\" + \"/*/*\")\n",
    "\n",
    "display(cowSnapshotQueryDF.select(\"_hoodie_commit_time\", \"uuid\", \"rider\", \"driver\", \"fare\", \"city\", \"ts\").filter(col(\"rider\") == \"rider-G\"))"
   ]
  },
  {
   "cell_type": "markdown",
   "id": "43446d93-3fa3-43c0-b1d3-4b025098e204",
   "metadata": {},
   "source": [
    "### Incremental Reads\n",
    "Hudi's incremental query feature lets us efficiently process only the data that has changed since a specific point in time. We'll start by listing all the commit times in our table."
   ]
  },
  {
   "cell_type": "markdown",
   "id": "a0da8fdc-e075-469f-9be8-15b7ae5b0861",
   "metadata": {},
   "source": [
    "Now, let's configure an incremental read to grab only the data committed after our update operation. Let's fetch the latest commit from the table."
   ]
  },
  {
   "cell_type": "code",
   "execution_count": 23,
   "id": "01e7ab3f-31f4-4d39-a8cb-0dbdb4b40fae",
   "metadata": {},
   "outputs": [
    {
     "data": {
      "text/html": [
       "\n",
       "    <style>\n",
       "        .dataframe {\n",
       "            border-radius: 0.5rem;\n",
       "            box-shadow: 0 4px 6px -1px rgba(0, 0, 0, 0.1), 0 2px 4px -1px rgba(0, 0, 0, 0.06);\n",
       "            overflow-x: auto;\n",
       "            border: 1px solid #e2e8f0;\n",
       "        }\n",
       "        .dataframe th {\n",
       "            background-color: #f1f5f9;\n",
       "            color: #1f2937;\n",
       "            font-weight: 600;\n",
       "            padding: 0.75rem 1.5rem;\n",
       "            text-align: left;\n",
       "            border-bottom: 2px solid #e2e8f0;\n",
       "        }\n",
       "        .dataframe td {\n",
       "            padding: 0.75rem 1.5rem;\n",
       "            border-bottom: 1px solid #e2e8f0;\n",
       "        }\n",
       "        .dataframe tr:nth-child(even) {\n",
       "            background-color: #f8fafc;\n",
       "        }\n",
       "        .dataframe tr:hover {\n",
       "            background-color: #e2e8f0;\n",
       "            transition: background-color 0.2s ease-in-out;\n",
       "        }\n",
       "    </style>\n",
       "    <table border=\"1\" class=\"dataframe w-full border-collapse text-sm text-gray-900 dark:text-white\">\n",
       "  <thead>\n",
       "    <tr style=\"text-align: right;\">\n",
       "      <th>_hoodie_commit_time</th>\n",
       "    </tr>\n",
       "  </thead>\n",
       "  <tbody>\n",
       "    <tr>\n",
       "      <td>20250814124928814</td>\n",
       "    </tr>\n",
       "    <tr>\n",
       "      <td>20250814134348351</td>\n",
       "    </tr>\n",
       "  </tbody>\n",
       "</table>"
      ],
      "text/plain": [
       "<IPython.core.display.HTML object>"
      ]
     },
     "metadata": {},
     "output_type": "display_data"
    },
    {
     "name": "stdout",
     "output_type": "stream",
     "text": [
      "Incremental commit time: 20250814134348351\n"
     ]
    }
   ],
   "source": [
    "# Get distinct commit times ordered\n",
    "commits_df = spark.read.format(\"hudi\").load(f\"{base_path}/{table_name_cow}\") \\\n",
    "    .select(\"_hoodie_commit_time\") \\\n",
    "    .distinct() \\\n",
    "    .orderBy(\"_hoodie_commit_time\")\n",
    "\n",
    "# Collect top 50 commit times as a list\n",
    "commits = [row['_hoodie_commit_time'] for row in commits_df.take(50)]\n",
    "\n",
    "incrementalTime = commits[-1]  # Commit time we are interested in\n",
    "display(commits_df)\n",
    "print(f\"Incremental commit time: {incrementalTime}\")"
   ]
  },
  {
   "cell_type": "code",
   "execution_count": 24,
   "id": "ac1c6d7c-ca86-4d64-ad18-36275082cf69",
   "metadata": {},
   "outputs": [],
   "source": [
    "incremental_read_options = {\n",
    "  'hoodie.datasource.query.type': 'incremental',\n",
    "  'hoodie.datasource.read.begin.instanttime': incrementalTime,\n",
    "}\n",
    "\n",
    "incrementalQueryDF = spark.read.format(\"hudi\") \\\n",
    "  .options(**incremental_read_options) \\\n",
    "  .load(f\"{base_path}/{table_name_cow}\")\n",
    "\n",
    "incrementalQueryDF.createOrReplaceTempView(\"trips_incremental\")"
   ]
  },
  {
   "cell_type": "markdown",
   "id": "96d626f2-9011-4d53-a7e4-24bcac1b983c",
   "metadata": {},
   "source": [
    "When we query our temporary incremental table, you can see that it returns only the single record that was updated since our last write operation."
   ]
  },
  {
   "cell_type": "code",
   "execution_count": 25,
   "id": "7281238f-5020-4040-a327-d5290c6cacc5",
   "metadata": {},
   "outputs": [
    {
     "data": {
      "text/html": [
       "\n",
       "    <style>\n",
       "        .dataframe {\n",
       "            border-radius: 0.5rem;\n",
       "            box-shadow: 0 4px 6px -1px rgba(0, 0, 0, 0.1), 0 2px 4px -1px rgba(0, 0, 0, 0.06);\n",
       "            overflow-x: auto;\n",
       "            border: 1px solid #e2e8f0;\n",
       "        }\n",
       "        .dataframe th {\n",
       "            background-color: #f1f5f9;\n",
       "            color: #1f2937;\n",
       "            font-weight: 600;\n",
       "            padding: 0.75rem 1.5rem;\n",
       "            text-align: left;\n",
       "            border-bottom: 2px solid #e2e8f0;\n",
       "        }\n",
       "        .dataframe td {\n",
       "            padding: 0.75rem 1.5rem;\n",
       "            border-bottom: 1px solid #e2e8f0;\n",
       "        }\n",
       "        .dataframe tr:nth-child(even) {\n",
       "            background-color: #f8fafc;\n",
       "        }\n",
       "        .dataframe tr:hover {\n",
       "            background-color: #e2e8f0;\n",
       "            transition: background-color 0.2s ease-in-out;\n",
       "        }\n",
       "    </style>\n",
       "    <table border=\"1\" class=\"dataframe w-full border-collapse text-sm text-gray-900 dark:text-white\">\n",
       "  <thead>\n",
       "    <tr style=\"text-align: right;\">\n",
       "      <th>_hoodie_commit_time</th>\n",
       "      <th>uuid</th>\n",
       "      <th>rider</th>\n",
       "      <th>driver</th>\n",
       "      <th>fare</th>\n",
       "      <th>city</th>\n",
       "      <th>ts</th>\n",
       "    </tr>\n",
       "  </thead>\n",
       "  <tbody>\n",
       "    <tr>\n",
       "      <td>20250814134348351</td>\n",
       "      <td>uuid-007</td>\n",
       "      <td>rider-G</td>\n",
       "      <td>driver-T</td>\n",
       "      <td>284.5</td>\n",
       "      <td>san_francisco</td>\n",
       "      <td>2025-08-10 14:10:05</td>\n",
       "    </tr>\n",
       "  </tbody>\n",
       "</table>"
      ],
      "text/plain": [
       "<IPython.core.display.HTML object>"
      ]
     },
     "metadata": {},
     "output_type": "display_data"
    }
   ],
   "source": [
    "display(spark.sql(\"select _hoodie_commit_time, uuid, rider, driver, fare, city, ts from trips_incremental\"))"
   ]
  },
  {
   "cell_type": "markdown",
   "id": "7e47551b-9b87-499d-a708-2db15ddbbea2",
   "metadata": {},
   "source": [
    "### Time Travel Query\n",
    "Hudi also allows for time travel, which means we can query the state of our table at a specific point in the past. By specifying the commit time from our initial data insertion, we can view the table's contents before we performed the update."
   ]
  },
  {
   "cell_type": "code",
   "execution_count": 30,
   "id": "3b428d95-b547-4dac-bd89-ed1bbdc2a963",
   "metadata": {},
   "outputs": [
    {
     "name": "stdout",
     "output_type": "stream",
     "text": [
      "Begin/Initial commit time: 20250814124928814\n"
     ]
    }
   ],
   "source": [
    "beginTime = commits[-2]  # Commit time we are interested in\n",
    "print(f\"Begin/Initial commit time: {beginTime}\")"
   ]
  },
  {
   "cell_type": "code",
   "execution_count": 31,
   "id": "59500bbd-ce40-48c3-ba04-2cb773cb3333",
   "metadata": {},
   "outputs": [],
   "source": [
    "spark.read.format(\"hudi\") \\\n",
    "  .option(\"as.of.instant\", beginTime) \\\n",
    "  .load(f\"{base_path}/{table_name_cow}\").createOrReplaceTempView(\"trips_time_travel\")"
   ]
  },
  {
   "cell_type": "code",
   "execution_count": 32,
   "id": "786c309d-8585-49cb-90c1-13c049cbcbd7",
   "metadata": {},
   "outputs": [
    {
     "data": {
      "text/html": [
       "\n",
       "    <style>\n",
       "        .dataframe {\n",
       "            border-radius: 0.5rem;\n",
       "            box-shadow: 0 4px 6px -1px rgba(0, 0, 0, 0.1), 0 2px 4px -1px rgba(0, 0, 0, 0.06);\n",
       "            overflow-x: auto;\n",
       "            border: 1px solid #e2e8f0;\n",
       "        }\n",
       "        .dataframe th {\n",
       "            background-color: #f1f5f9;\n",
       "            color: #1f2937;\n",
       "            font-weight: 600;\n",
       "            padding: 0.75rem 1.5rem;\n",
       "            text-align: left;\n",
       "            border-bottom: 2px solid #e2e8f0;\n",
       "        }\n",
       "        .dataframe td {\n",
       "            padding: 0.75rem 1.5rem;\n",
       "            border-bottom: 1px solid #e2e8f0;\n",
       "        }\n",
       "        .dataframe tr:nth-child(even) {\n",
       "            background-color: #f8fafc;\n",
       "        }\n",
       "        .dataframe tr:hover {\n",
       "            background-color: #e2e8f0;\n",
       "            transition: background-color 0.2s ease-in-out;\n",
       "        }\n",
       "    </style>\n",
       "    <table border=\"1\" class=\"dataframe w-full border-collapse text-sm text-gray-900 dark:text-white\">\n",
       "  <thead>\n",
       "    <tr style=\"text-align: right;\">\n",
       "      <th>_hoodie_commit_time</th>\n",
       "      <th>uuid</th>\n",
       "      <th>rider</th>\n",
       "      <th>driver</th>\n",
       "      <th>fare</th>\n",
       "      <th>city</th>\n",
       "      <th>ts</th>\n",
       "    </tr>\n",
       "  </thead>\n",
       "  <tbody>\n",
       "    <tr>\n",
       "      <td>20250814124928814</td>\n",
       "      <td>uuid-002</td>\n",
       "      <td>rider-B</td>\n",
       "      <td>driver-Y</td>\n",
       "      <td>22.75</td>\n",
       "      <td>san_francisco</td>\n",
       "      <td>2025-08-10 09:22:10</td>\n",
       "    </tr>\n",
       "    <tr>\n",
       "      <td>20250814124928814</td>\n",
       "      <td>uuid-005</td>\n",
       "      <td>rider-E</td>\n",
       "      <td>driver-V</td>\n",
       "      <td>25.10</td>\n",
       "      <td>san_francisco</td>\n",
       "      <td>2025-08-10 12:55:15</td>\n",
       "    </tr>\n",
       "    <tr>\n",
       "      <td>20250814124928814</td>\n",
       "      <td>uuid-007</td>\n",
       "      <td>rider-G</td>\n",
       "      <td>driver-T</td>\n",
       "      <td>28.45</td>\n",
       "      <td>san_francisco</td>\n",
       "      <td>2025-08-10 14:10:05</td>\n",
       "    </tr>\n",
       "    <tr>\n",
       "      <td>20250814124928814</td>\n",
       "      <td>uuid-001</td>\n",
       "      <td>rider-A</td>\n",
       "      <td>driver-X</td>\n",
       "      <td>18.50</td>\n",
       "      <td>new_york</td>\n",
       "      <td>2025-08-10 08:15:30</td>\n",
       "    </tr>\n",
       "    <tr>\n",
       "      <td>20250814124928814</td>\n",
       "      <td>uuid-004</td>\n",
       "      <td>rider-D</td>\n",
       "      <td>driver-W</td>\n",
       "      <td>31.90</td>\n",
       "      <td>new_york</td>\n",
       "      <td>2025-08-10 11:40:00</td>\n",
       "    </tr>\n",
       "    <tr>\n",
       "      <td>20250814124928814</td>\n",
       "      <td>uuid-008</td>\n",
       "      <td>rider-H</td>\n",
       "      <td>driver-S</td>\n",
       "      <td>16.25</td>\n",
       "      <td>new_york</td>\n",
       "      <td>2025-08-10 15:00:20</td>\n",
       "    </tr>\n",
       "    <tr>\n",
       "      <td>20250814124928814</td>\n",
       "      <td>uuid-010</td>\n",
       "      <td>rider-J</td>\n",
       "      <td>driver-Q</td>\n",
       "      <td>20.00</td>\n",
       "      <td>new_york</td>\n",
       "      <td>2025-08-10 16:30:00</td>\n",
       "    </tr>\n",
       "    <tr>\n",
       "      <td>20250814124928814</td>\n",
       "      <td>uuid-003</td>\n",
       "      <td>rider-C</td>\n",
       "      <td>driver-Z</td>\n",
       "      <td>14.60</td>\n",
       "      <td>chicago</td>\n",
       "      <td>2025-08-10 10:05:45</td>\n",
       "    </tr>\n",
       "    <tr>\n",
       "      <td>20250814124928814</td>\n",
       "      <td>uuid-006</td>\n",
       "      <td>rider-F</td>\n",
       "      <td>driver-U</td>\n",
       "      <td>19.80</td>\n",
       "      <td>chicago</td>\n",
       "      <td>2025-08-10 13:20:35</td>\n",
       "    </tr>\n",
       "    <tr>\n",
       "      <td>20250814124928814</td>\n",
       "      <td>uuid-009</td>\n",
       "      <td>rider-I</td>\n",
       "      <td>driver-R</td>\n",
       "      <td>24.35</td>\n",
       "      <td>chicago</td>\n",
       "      <td>2025-08-10 15:45:50</td>\n",
       "    </tr>\n",
       "  </tbody>\n",
       "</table>"
      ],
      "text/plain": [
       "<IPython.core.display.HTML object>"
      ]
     },
     "metadata": {},
     "output_type": "display_data"
    }
   ],
   "source": [
    "display(spark.sql(\"select _hoodie_commit_time, uuid, rider, driver, fare, city, ts from trips_time_travel\"))"
   ]
  },
  {
   "cell_type": "markdown",
   "id": "31a19793-95be-4ff7-8c9f-263b842f84d9",
   "metadata": {},
   "source": [
    "As you can see, querying the historical view shows the original fare for 'rider-G' before we updated it. This is a great way to audit or restore data from the past."
   ]
  },
  {
   "cell_type": "markdown",
   "id": "8c24db4a-ab35-421f-8227-cfebe95b78c9",
   "metadata": {},
   "source": [
    "### Change Data Capture (CDC)\n",
    "Hudi's Change Data Capture (CDC) feature lets you read a stream of all the changes (inserts, updates, and deletes) that have been applied to your table. This is perfect for downstream systems that need to react to data modifications in real-time. We'll start by adding some new data and updating an existing record to generate some changes."
   ]
  },
  {
   "cell_type": "code",
   "execution_count": 33,
   "id": "288dfc2a-f597-4635-8089-7afb4c57d077",
   "metadata": {},
   "outputs": [],
   "source": [
    "from pyspark.sql.functions import lit\n",
    "from pyspark.sql import Row\n",
    "\n",
    "# Define a DataFrame with one new record and one updated record\n",
    "cdc_data = [\n",
    "    (\"2025-08-11 10:00:00\", \"uuid-011\", \"rider-K\", \"driver-P\", 10.50, \"chicago\"), # new record\n",
    "    (\"2025-08-10 09:22:10\", \"uuid-002\", \"rider-B\", \"driver-Y\", 50.00, \"san_francisco\") # updated record\n",
    "]\n",
    "\n",
    "cdc_columns = [\"ts\", \"uuid\", \"rider\", \"driver\", \"fare\", \"city\"]\n",
    "cdcDF = spark.createDataFrame(cdc_data).toDF(*cdc_columns)"
   ]
  },
  {
   "cell_type": "markdown",
   "id": "7ae1e3f7-f194-459d-a349-fe4ff0f02994",
   "metadata": {},
   "source": [
    "Now, we'll perform an upsert with our new data. This will create a new commit with one insert and one update."
   ]
  },
  {
   "cell_type": "code",
   "execution_count": 35,
   "id": "489e6612-f8b5-43bb-ad7d-04db19cf28a8",
   "metadata": {},
   "outputs": [],
   "source": [
    "cdcDF.write \\\n",
    "    .format(\"hudi\") \\\n",
    "    .option(\"hoodie.datasource.write.operation\", \"upsert\") \\\n",
    "    .options(**cow_hudi_conf) \\\n",
    "    .mode(\"append\") \\\n",
    "    .save(f\"{base_path}/{table_name_cow}\")"
   ]
  },
  {
   "cell_type": "markdown",
   "id": "0c8accd4-0a9f-4cab-9f94-40cb26adce80",
   "metadata": {},
   "source": [
    "To see the changes from this specific transaction, we'll first get its commit time. We'll then use this as our starting point for the CDC query to capture all the changes from that moment forward."
   ]
  },
  {
   "cell_type": "code",
   "execution_count": 36,
   "id": "ef85e827-5f4f-47d2-b2cc-31a1a86cacab",
   "metadata": {},
   "outputs": [
    {
     "name": "stdout",
     "output_type": "stream",
     "text": [
      "Latest commit time: 20250814144129688\n"
     ]
    }
   ],
   "source": [
    "from pyspark.sql.functions import max\n",
    "\n",
    "# Find the maximum commit time\n",
    "latest_commit_time = spark.read.format(\"hudi\").load(f\"{base_path}/{table_name_cow}\") \\\n",
    "    .agg(max(\"_hoodie_commit_time\")) \\\n",
    "    .collect()[0][0]\n",
    "\n",
    "print(f\"Latest commit time: {latest_commit_time}\")"
   ]
  },
  {
   "cell_type": "markdown",
   "id": "1ea2cbb3-eeb8-4f2f-8fcd-63403abfd777",
   "metadata": {},
   "source": [
    "Now we can perform a CDC query using a special incremental format. We'll set the query type to \"incremental\" and specify \"hoodie.datasource.query.incremental.format\": \"cdc\". By using the latest_commit_time we just fetched, we can capture all the changes from our last commit. The output will include the op column, which tells us whether a record was inserted, updated, or deleted."
   ]
  },
  {
   "cell_type": "code",
   "execution_count": 41,
   "id": "44003118-0ea4-4f24-80ae-a1222507b4c7",
   "metadata": {},
   "outputs": [
    {
     "name": "stdout",
     "output_type": "stream",
     "text": [
      "+---+-----+------+-----+\n",
      "|op |ts_ms|before|after|\n",
      "+---+-----+------+-----+\n",
      "+---+-----+------+-----+\n",
      "\n"
     ]
    }
   ],
   "source": [
    "cdc_read_options = {\n",
    "  'hoodie.datasource.query.type': 'incremental',\n",
    "  'hoodie.datasource.read.begin.instanttime': latest_commit_time,\n",
    "  'hoodie.datasource.query.incremental.format': 'cdc'\n",
    "}\n",
    "\n",
    "cdcQueryDF = spark.read.format(\"hudi\"). \\\n",
    "  options(**cdc_read_options). \\\n",
    "  load(f\"{base_path}/{table_name_cow}\").show(truncate=False)\n",
    "\n",
    "#display(cdcQueryDF)"
   ]
  },
  {
   "cell_type": "markdown",
   "id": "665e5a66-2a2b-4c89-86e5-f9eec3b6a844",
   "metadata": {},
   "source": [
    "Let's look at the above output to see what happened:\n",
    "\n",
    "**Update:** We have a record where **op is u**. This corresponds to the update we made to uuid-002. The before column shows the original fare of 22.75, and the after column shows the new fare of 50.0.\n",
    "\n",
    "**Insert:** We also have a record where **op is i**. This is the new record for uuid-011. The before column is null because it didn't exist before this commit, while the after column contains all the new record's data."
   ]
  },
  {
   "cell_type": "code",
   "execution_count": null,
   "id": "ac67073e-3070-4139-b679-240bc177b24c",
   "metadata": {},
   "outputs": [],
   "source": []
  },
  {
   "cell_type": "markdown",
   "id": "77785e82-4d9d-4972-8adf-633558ee0427",
   "metadata": {},
   "source": [
    "Just like COW tables, lets query the MOR table as well. As we do not have any updates on MOR yet it is having only base data files. Also inspect the filesystem too."
   ]
  },
  {
   "cell_type": "code",
   "execution_count": 12,
   "id": "799797f8-7fc8-417a-b6f5-e0137a28e47b",
   "metadata": {},
   "outputs": [
    {
     "name": "stdout",
     "output_type": "stream",
     "text": [
      "s3a://warehouse/hudi-db/trips_table_mor/.hoodie\n",
      "s3a://warehouse/hudi-db/trips_table_mor/city=chicago\n",
      "s3a://warehouse/hudi-db/trips_table_mor/city=new_york\n",
      "s3a://warehouse/hudi-db/trips_table_mor/city=san_francisco\n"
     ]
    }
   ],
   "source": [
    "ls(f\"{base_path}/{table_name_mor}\")"
   ]
  },
  {
   "cell_type": "code",
   "execution_count": 13,
   "id": "5a16e027-0bdd-4d41-ab5e-6b7d2f94585e",
   "metadata": {},
   "outputs": [
    {
     "name": "stdout",
     "output_type": "stream",
     "text": [
      "s3a://warehouse/hudi-db/trips_table_mor/city=new_york/.hoodie_partition_metadata\n",
      "s3a://warehouse/hudi-db/trips_table_mor/city=new_york/4791ceb3-88de-47b8-9b63-da6bed09fc5b-0_2-61-160_20250814125712793.parquet\n"
     ]
    }
   ],
   "source": [
    "ls(f\"{base_path}/{table_name_mor}/city=new_york\")"
   ]
  },
  {
   "cell_type": "markdown",
   "id": "2e42a21b-c5b8-417b-9a8b-0f027b12c4c7",
   "metadata": {},
   "source": [
    "### Snapshot Query"
   ]
  },
  {
   "cell_type": "code",
   "execution_count": 14,
   "id": "3a02706e-3172-4767-93e7-5420fa9cb92d",
   "metadata": {},
   "outputs": [
    {
     "data": {
      "text/html": [
       "\n",
       "    <style>\n",
       "        .dataframe {\n",
       "            border-radius: 0.5rem;\n",
       "            box-shadow: 0 4px 6px -1px rgba(0, 0, 0, 0.1), 0 2px 4px -1px rgba(0, 0, 0, 0.06);\n",
       "            overflow-x: auto;\n",
       "            border: 1px solid #e2e8f0;\n",
       "        }\n",
       "        .dataframe th {\n",
       "            background-color: #f1f5f9;\n",
       "            color: #1f2937;\n",
       "            font-weight: 600;\n",
       "            padding: 0.75rem 1.5rem;\n",
       "            text-align: left;\n",
       "            border-bottom: 2px solid #e2e8f0;\n",
       "        }\n",
       "        .dataframe td {\n",
       "            padding: 0.75rem 1.5rem;\n",
       "            border-bottom: 1px solid #e2e8f0;\n",
       "        }\n",
       "        .dataframe tr:nth-child(even) {\n",
       "            background-color: #f8fafc;\n",
       "        }\n",
       "        .dataframe tr:hover {\n",
       "            background-color: #e2e8f0;\n",
       "            transition: background-color 0.2s ease-in-out;\n",
       "        }\n",
       "    </style>\n",
       "    <table border=\"1\" class=\"dataframe w-full border-collapse text-sm text-gray-900 dark:text-white\">\n",
       "  <thead>\n",
       "    <tr style=\"text-align: right;\">\n",
       "      <th>_hoodie_commit_time</th>\n",
       "      <th>uuid</th>\n",
       "      <th>rider</th>\n",
       "      <th>driver</th>\n",
       "      <th>fare</th>\n",
       "      <th>city</th>\n",
       "      <th>ts</th>\n",
       "    </tr>\n",
       "  </thead>\n",
       "  <tbody>\n",
       "    <tr>\n",
       "      <td>20250814125712793</td>\n",
       "      <td>uuid-002</td>\n",
       "      <td>rider-B</td>\n",
       "      <td>driver-Y</td>\n",
       "      <td>22.75</td>\n",
       "      <td>san_francisco</td>\n",
       "      <td>2025-08-10 09:22:10</td>\n",
       "    </tr>\n",
       "    <tr>\n",
       "      <td>20250814125712793</td>\n",
       "      <td>uuid-005</td>\n",
       "      <td>rider-E</td>\n",
       "      <td>driver-V</td>\n",
       "      <td>25.10</td>\n",
       "      <td>san_francisco</td>\n",
       "      <td>2025-08-10 12:55:15</td>\n",
       "    </tr>\n",
       "    <tr>\n",
       "      <td>20250814125712793</td>\n",
       "      <td>uuid-007</td>\n",
       "      <td>rider-G</td>\n",
       "      <td>driver-T</td>\n",
       "      <td>28.45</td>\n",
       "      <td>san_francisco</td>\n",
       "      <td>2025-08-10 14:10:05</td>\n",
       "    </tr>\n",
       "    <tr>\n",
       "      <td>20250814125712793</td>\n",
       "      <td>uuid-003</td>\n",
       "      <td>rider-C</td>\n",
       "      <td>driver-Z</td>\n",
       "      <td>14.60</td>\n",
       "      <td>chicago</td>\n",
       "      <td>2025-08-10 10:05:45</td>\n",
       "    </tr>\n",
       "    <tr>\n",
       "      <td>20250814125712793</td>\n",
       "      <td>uuid-006</td>\n",
       "      <td>rider-F</td>\n",
       "      <td>driver-U</td>\n",
       "      <td>19.80</td>\n",
       "      <td>chicago</td>\n",
       "      <td>2025-08-10 13:20:35</td>\n",
       "    </tr>\n",
       "    <tr>\n",
       "      <td>20250814125712793</td>\n",
       "      <td>uuid-009</td>\n",
       "      <td>rider-I</td>\n",
       "      <td>driver-R</td>\n",
       "      <td>24.35</td>\n",
       "      <td>chicago</td>\n",
       "      <td>2025-08-10 15:45:50</td>\n",
       "    </tr>\n",
       "    <tr>\n",
       "      <td>20250814125712793</td>\n",
       "      <td>uuid-001</td>\n",
       "      <td>rider-A</td>\n",
       "      <td>driver-X</td>\n",
       "      <td>18.50</td>\n",
       "      <td>new_york</td>\n",
       "      <td>2025-08-10 08:15:30</td>\n",
       "    </tr>\n",
       "    <tr>\n",
       "      <td>20250814125712793</td>\n",
       "      <td>uuid-004</td>\n",
       "      <td>rider-D</td>\n",
       "      <td>driver-W</td>\n",
       "      <td>31.90</td>\n",
       "      <td>new_york</td>\n",
       "      <td>2025-08-10 11:40:00</td>\n",
       "    </tr>\n",
       "    <tr>\n",
       "      <td>20250814125712793</td>\n",
       "      <td>uuid-008</td>\n",
       "      <td>rider-H</td>\n",
       "      <td>driver-S</td>\n",
       "      <td>16.25</td>\n",
       "      <td>new_york</td>\n",
       "      <td>2025-08-10 15:00:20</td>\n",
       "    </tr>\n",
       "    <tr>\n",
       "      <td>20250814125712793</td>\n",
       "      <td>uuid-010</td>\n",
       "      <td>rider-J</td>\n",
       "      <td>driver-Q</td>\n",
       "      <td>20.00</td>\n",
       "      <td>new_york</td>\n",
       "      <td>2025-08-10 16:30:00</td>\n",
       "    </tr>\n",
       "  </tbody>\n",
       "</table>"
      ],
      "text/plain": [
       "<IPython.core.display.HTML object>"
      ]
     },
     "metadata": {},
     "output_type": "display_data"
    }
   ],
   "source": [
    "morSnapshotQueryDF = spark.read \\\n",
    "        .format(\"hudi\") \\\n",
    "        .load(f\"{base_path}/{table_name_mor}\" + \"/*/*\")\n",
    "\n",
    "display(morSnapshotQueryDF.select(\"_hoodie_commit_time\", \"uuid\", \"rider\", \"driver\", \"fare\", \"city\", \"ts\"))"
   ]
  },
  {
   "cell_type": "markdown",
   "id": "c13f7e67-fb8e-42cf-bf8c-ecc2c27f7dac",
   "metadata": {},
   "source": [
    "### Reading in Read-Optimized Mode\n",
    "Now, let's read the same table in read-optimized mode. This mode is faster because it only reads the base files, but it won't show any recent updates that are still in the log files."
   ]
  },
  {
   "cell_type": "code",
   "execution_count": 43,
   "id": "c81df8a3-e10d-44ee-98fe-5108554f0372",
   "metadata": {},
   "outputs": [
    {
     "data": {
      "text/html": [
       "\n",
       "    <style>\n",
       "        .dataframe {\n",
       "            border-radius: 0.5rem;\n",
       "            box-shadow: 0 4px 6px -1px rgba(0, 0, 0, 0.1), 0 2px 4px -1px rgba(0, 0, 0, 0.06);\n",
       "            overflow-x: auto;\n",
       "            border: 1px solid #e2e8f0;\n",
       "        }\n",
       "        .dataframe th {\n",
       "            background-color: #f1f5f9;\n",
       "            color: #1f2937;\n",
       "            font-weight: 600;\n",
       "            padding: 0.75rem 1.5rem;\n",
       "            text-align: left;\n",
       "            border-bottom: 2px solid #e2e8f0;\n",
       "        }\n",
       "        .dataframe td {\n",
       "            padding: 0.75rem 1.5rem;\n",
       "            border-bottom: 1px solid #e2e8f0;\n",
       "        }\n",
       "        .dataframe tr:nth-child(even) {\n",
       "            background-color: #f8fafc;\n",
       "        }\n",
       "        .dataframe tr:hover {\n",
       "            background-color: #e2e8f0;\n",
       "            transition: background-color 0.2s ease-in-out;\n",
       "        }\n",
       "    </style>\n",
       "    <table border=\"1\" class=\"dataframe w-full border-collapse text-sm text-gray-900 dark:text-white\">\n",
       "  <thead>\n",
       "    <tr style=\"text-align: right;\">\n",
       "      <th>_hoodie_commit_time</th>\n",
       "      <th>uuid</th>\n",
       "      <th>rider</th>\n",
       "      <th>driver</th>\n",
       "      <th>fare</th>\n",
       "      <th>city</th>\n",
       "      <th>ts</th>\n",
       "    </tr>\n",
       "  </thead>\n",
       "  <tbody>\n",
       "    <tr>\n",
       "      <td>20250814125712793</td>\n",
       "      <td>uuid-002</td>\n",
       "      <td>rider-B</td>\n",
       "      <td>driver-Y</td>\n",
       "      <td>22.75</td>\n",
       "      <td>san_francisco</td>\n",
       "      <td>2025-08-10 09:22:10</td>\n",
       "    </tr>\n",
       "    <tr>\n",
       "      <td>20250814125712793</td>\n",
       "      <td>uuid-005</td>\n",
       "      <td>rider-E</td>\n",
       "      <td>driver-V</td>\n",
       "      <td>25.10</td>\n",
       "      <td>san_francisco</td>\n",
       "      <td>2025-08-10 12:55:15</td>\n",
       "    </tr>\n",
       "    <tr>\n",
       "      <td>20250814125712793</td>\n",
       "      <td>uuid-007</td>\n",
       "      <td>rider-G</td>\n",
       "      <td>driver-T</td>\n",
       "      <td>28.45</td>\n",
       "      <td>san_francisco</td>\n",
       "      <td>2025-08-10 14:10:05</td>\n",
       "    </tr>\n",
       "    <tr>\n",
       "      <td>20250814125712793</td>\n",
       "      <td>uuid-001</td>\n",
       "      <td>rider-A</td>\n",
       "      <td>driver-X</td>\n",
       "      <td>18.50</td>\n",
       "      <td>new_york</td>\n",
       "      <td>2025-08-10 08:15:30</td>\n",
       "    </tr>\n",
       "    <tr>\n",
       "      <td>20250814125712793</td>\n",
       "      <td>uuid-004</td>\n",
       "      <td>rider-D</td>\n",
       "      <td>driver-W</td>\n",
       "      <td>31.90</td>\n",
       "      <td>new_york</td>\n",
       "      <td>2025-08-10 11:40:00</td>\n",
       "    </tr>\n",
       "    <tr>\n",
       "      <td>20250814125712793</td>\n",
       "      <td>uuid-008</td>\n",
       "      <td>rider-H</td>\n",
       "      <td>driver-S</td>\n",
       "      <td>16.25</td>\n",
       "      <td>new_york</td>\n",
       "      <td>2025-08-10 15:00:20</td>\n",
       "    </tr>\n",
       "    <tr>\n",
       "      <td>20250814125712793</td>\n",
       "      <td>uuid-010</td>\n",
       "      <td>rider-J</td>\n",
       "      <td>driver-Q</td>\n",
       "      <td>20.00</td>\n",
       "      <td>new_york</td>\n",
       "      <td>2025-08-10 16:30:00</td>\n",
       "    </tr>\n",
       "    <tr>\n",
       "      <td>20250814125712793</td>\n",
       "      <td>uuid-003</td>\n",
       "      <td>rider-C</td>\n",
       "      <td>driver-Z</td>\n",
       "      <td>14.60</td>\n",
       "      <td>chicago</td>\n",
       "      <td>2025-08-10 10:05:45</td>\n",
       "    </tr>\n",
       "    <tr>\n",
       "      <td>20250814125712793</td>\n",
       "      <td>uuid-006</td>\n",
       "      <td>rider-F</td>\n",
       "      <td>driver-U</td>\n",
       "      <td>19.80</td>\n",
       "      <td>chicago</td>\n",
       "      <td>2025-08-10 13:20:35</td>\n",
       "    </tr>\n",
       "    <tr>\n",
       "      <td>20250814125712793</td>\n",
       "      <td>uuid-009</td>\n",
       "      <td>rider-I</td>\n",
       "      <td>driver-R</td>\n",
       "      <td>24.35</td>\n",
       "      <td>chicago</td>\n",
       "      <td>2025-08-10 15:45:50</td>\n",
       "    </tr>\n",
       "  </tbody>\n",
       "</table>"
      ],
      "text/plain": [
       "<IPython.core.display.HTML object>"
      ]
     },
     "metadata": {},
     "output_type": "display_data"
    }
   ],
   "source": [
    "mor_ro_df = spark.read.format(\"hudi\") \\\n",
    "    .option(\"hoodie.datasource.query.type\", \"read_optimized\") \\\n",
    "    .load(f\"{base_path}/{table_name_mor}\")\n",
    "\n",
    "display(mor_ro_df.select(\"_hoodie_commit_time\", \"uuid\", \"rider\", \"driver\", \"fare\", \"city\", \"ts\"))"
   ]
  },
  {
   "cell_type": "markdown",
   "id": "2b7fdb57-71e0-4f94-ac4d-0a7b8f720415",
   "metadata": {},
   "source": [
    "### Updating a Record in the MOR table\n",
    "Let's update a record in our MOR table to see how it affects our read modes. We'll find the record for 'driver-W' and double its fare."
   ]
  },
  {
   "cell_type": "code",
   "execution_count": 44,
   "id": "977b2f20-18c3-4e66-b517-450a4c9dbd5b",
   "metadata": {},
   "outputs": [
    {
     "data": {
      "text/html": [
       "\n",
       "    <style>\n",
       "        .dataframe {\n",
       "            border-radius: 0.5rem;\n",
       "            box-shadow: 0 4px 6px -1px rgba(0, 0, 0, 0.1), 0 2px 4px -1px rgba(0, 0, 0, 0.06);\n",
       "            overflow-x: auto;\n",
       "            border: 1px solid #e2e8f0;\n",
       "        }\n",
       "        .dataframe th {\n",
       "            background-color: #f1f5f9;\n",
       "            color: #1f2937;\n",
       "            font-weight: 600;\n",
       "            padding: 0.75rem 1.5rem;\n",
       "            text-align: left;\n",
       "            border-bottom: 2px solid #e2e8f0;\n",
       "        }\n",
       "        .dataframe td {\n",
       "            padding: 0.75rem 1.5rem;\n",
       "            border-bottom: 1px solid #e2e8f0;\n",
       "        }\n",
       "        .dataframe tr:nth-child(even) {\n",
       "            background-color: #f8fafc;\n",
       "        }\n",
       "        .dataframe tr:hover {\n",
       "            background-color: #e2e8f0;\n",
       "            transition: background-color 0.2s ease-in-out;\n",
       "        }\n",
       "    </style>\n",
       "    <table border=\"1\" class=\"dataframe w-full border-collapse text-sm text-gray-900 dark:text-white\">\n",
       "  <thead>\n",
       "    <tr style=\"text-align: right;\">\n",
       "      <th>uuid</th>\n",
       "      <th>rider</th>\n",
       "      <th>driver</th>\n",
       "      <th>fare</th>\n",
       "      <th>city</th>\n",
       "      <th>ts</th>\n",
       "    </tr>\n",
       "  </thead>\n",
       "  <tbody>\n",
       "    <tr>\n",
       "      <td>uuid-004</td>\n",
       "      <td>rider-D</td>\n",
       "      <td>driver-W</td>\n",
       "      <td>63.8</td>\n",
       "      <td>new_york</td>\n",
       "      <td>2025-08-10 11:40:00</td>\n",
       "    </tr>\n",
       "  </tbody>\n",
       "</table>"
      ],
      "text/plain": [
       "<IPython.core.display.HTML object>"
      ]
     },
     "metadata": {},
     "output_type": "display_data"
    }
   ],
   "source": [
    "from pyspark.sql.functions import col\n",
    "updatesDF = spark.read.format(\"hudi\").load(f\"{base_path}/{table_name_mor}\").filter(col(\"driver\") == \"driver-W\").withColumn(\"fare\", col(\"fare\") * 2)\n",
    "\n",
    "display(updatesDF.select(\"uuid\", \"rider\", \"driver\", \"fare\", \"city\", \"ts\"))"
   ]
  },
  {
   "cell_type": "markdown",
   "id": "91eb7c9d-407f-4ca3-a803-d856d3780616",
   "metadata": {},
   "source": [
    "Now we perform the upsert. In a MOR table, this update will be written to a log file, separate from the main Parquet data files."
   ]
  },
  {
   "cell_type": "code",
   "execution_count": 45,
   "id": "fa3ff393-d819-4a9a-bacb-8ec2fb2381f7",
   "metadata": {},
   "outputs": [],
   "source": [
    "updatesDF.write \\\n",
    "    .format(\"hudi\") \\\n",
    "    .option(\"hoodie.datasource.write.operation\", \"upsert\") \\\n",
    "    .options(**mor_hudi_conf) \\\n",
    "    .mode(\"append\") \\\n",
    "    .save(f\"{base_path}/{table_name_mor}\")"
   ]
  },
  {
   "cell_type": "markdown",
   "id": "6878f4ae-cdb5-45dd-b838-6c4784790e37",
   "metadata": {},
   "source": [
    "After the update, a snapshot query correctly shows the new fare for 'driver-W'. This is because the log files containing our update were merged with the base files during this read operation."
   ]
  },
  {
   "cell_type": "code",
   "execution_count": 48,
   "id": "ecb09236-ae79-4d1f-b479-c06a80b91ef0",
   "metadata": {},
   "outputs": [
    {
     "data": {
      "text/html": [
       "\n",
       "    <style>\n",
       "        .dataframe {\n",
       "            border-radius: 0.5rem;\n",
       "            box-shadow: 0 4px 6px -1px rgba(0, 0, 0, 0.1), 0 2px 4px -1px rgba(0, 0, 0, 0.06);\n",
       "            overflow-x: auto;\n",
       "            border: 1px solid #e2e8f0;\n",
       "        }\n",
       "        .dataframe th {\n",
       "            background-color: #f1f5f9;\n",
       "            color: #1f2937;\n",
       "            font-weight: 600;\n",
       "            padding: 0.75rem 1.5rem;\n",
       "            text-align: left;\n",
       "            border-bottom: 2px solid #e2e8f0;\n",
       "        }\n",
       "        .dataframe td {\n",
       "            padding: 0.75rem 1.5rem;\n",
       "            border-bottom: 1px solid #e2e8f0;\n",
       "        }\n",
       "        .dataframe tr:nth-child(even) {\n",
       "            background-color: #f8fafc;\n",
       "        }\n",
       "        .dataframe tr:hover {\n",
       "            background-color: #e2e8f0;\n",
       "            transition: background-color 0.2s ease-in-out;\n",
       "        }\n",
       "    </style>\n",
       "    <table border=\"1\" class=\"dataframe w-full border-collapse text-sm text-gray-900 dark:text-white\">\n",
       "  <thead>\n",
       "    <tr style=\"text-align: right;\">\n",
       "      <th>_hoodie_commit_time</th>\n",
       "      <th>uuid</th>\n",
       "      <th>rider</th>\n",
       "      <th>driver</th>\n",
       "      <th>fare</th>\n",
       "      <th>city</th>\n",
       "      <th>ts</th>\n",
       "    </tr>\n",
       "  </thead>\n",
       "  <tbody>\n",
       "    <tr>\n",
       "      <td>20250814151334128</td>\n",
       "      <td>uuid-004</td>\n",
       "      <td>rider-D</td>\n",
       "      <td>driver-W</td>\n",
       "      <td>63.8</td>\n",
       "      <td>new_york</td>\n",
       "      <td>2025-08-10 11:40:00</td>\n",
       "    </tr>\n",
       "  </tbody>\n",
       "</table>"
      ],
      "text/plain": [
       "<IPython.core.display.HTML object>"
      ]
     },
     "metadata": {},
     "output_type": "display_data"
    }
   ],
   "source": [
    "morSnapshotQueryDF = spark.read.format(\"hudi\").load(f\"{base_path}/{table_name_mor}\")\n",
    "display(morSnapshotQueryDF.select(\"_hoodie_commit_time\", \"uuid\", \"rider\", \"driver\", \"fare\", \"city\", \"ts\").filter(col(\"driver\") == \"driver-W\"))"
   ]
  },
  {
   "cell_type": "markdown",
   "id": "f5cce817-4a08-40dc-99f8-921b36528c11",
   "metadata": {},
   "source": [
    "Finally, a read-optimized query of the same table still shows the old fare for 'driver-W'. This is because the read-optimized query only looks at the base data files and ignores the unmerged update in the log file."
   ]
  },
  {
   "cell_type": "code",
   "execution_count": 50,
   "id": "bcd2e04f-2256-4b08-8d77-70c597478cbd",
   "metadata": {},
   "outputs": [
    {
     "data": {
      "text/html": [
       "\n",
       "    <style>\n",
       "        .dataframe {\n",
       "            border-radius: 0.5rem;\n",
       "            box-shadow: 0 4px 6px -1px rgba(0, 0, 0, 0.1), 0 2px 4px -1px rgba(0, 0, 0, 0.06);\n",
       "            overflow-x: auto;\n",
       "            border: 1px solid #e2e8f0;\n",
       "        }\n",
       "        .dataframe th {\n",
       "            background-color: #f1f5f9;\n",
       "            color: #1f2937;\n",
       "            font-weight: 600;\n",
       "            padding: 0.75rem 1.5rem;\n",
       "            text-align: left;\n",
       "            border-bottom: 2px solid #e2e8f0;\n",
       "        }\n",
       "        .dataframe td {\n",
       "            padding: 0.75rem 1.5rem;\n",
       "            border-bottom: 1px solid #e2e8f0;\n",
       "        }\n",
       "        .dataframe tr:nth-child(even) {\n",
       "            background-color: #f8fafc;\n",
       "        }\n",
       "        .dataframe tr:hover {\n",
       "            background-color: #e2e8f0;\n",
       "            transition: background-color 0.2s ease-in-out;\n",
       "        }\n",
       "    </style>\n",
       "    <table border=\"1\" class=\"dataframe w-full border-collapse text-sm text-gray-900 dark:text-white\">\n",
       "  <thead>\n",
       "    <tr style=\"text-align: right;\">\n",
       "      <th>_hoodie_commit_time</th>\n",
       "      <th>uuid</th>\n",
       "      <th>rider</th>\n",
       "      <th>driver</th>\n",
       "      <th>fare</th>\n",
       "      <th>city</th>\n",
       "      <th>ts</th>\n",
       "    </tr>\n",
       "  </thead>\n",
       "  <tbody>\n",
       "    <tr>\n",
       "      <td>20250814125712793</td>\n",
       "      <td>uuid-004</td>\n",
       "      <td>rider-D</td>\n",
       "      <td>driver-W</td>\n",
       "      <td>31.9</td>\n",
       "      <td>new_york</td>\n",
       "      <td>2025-08-10 11:40:00</td>\n",
       "    </tr>\n",
       "  </tbody>\n",
       "</table>"
      ],
      "text/plain": [
       "<IPython.core.display.HTML object>"
      ]
     },
     "metadata": {},
     "output_type": "display_data"
    }
   ],
   "source": [
    "mor_ro_df = spark.read.format(\"hudi\") \\\n",
    "    .option(\"hoodie.datasource.query.type\", \"read_optimized\") \\\n",
    "    .load(f\"{base_path}/{table_name_mor}\")\n",
    "\n",
    "display(mor_ro_df.select(\"_hoodie_commit_time\", \"uuid\", \"rider\", \"driver\", \"fare\", \"city\", \"ts\").filter(col(\"driver\") == \"driver-W\"))"
   ]
  },
  {
   "cell_type": "code",
   "execution_count": null,
   "id": "c714e321-586d-4459-a527-4967002ecf27",
   "metadata": {},
   "outputs": [],
   "source": []
  }
 ],
 "metadata": {
  "kernelspec": {
   "display_name": "Python 3 (ipykernel)",
   "language": "python",
   "name": "python3"
  },
  "language_info": {
   "codemirror_mode": {
    "name": "ipython",
    "version": 3
   },
   "file_extension": ".py",
   "mimetype": "text/x-python",
   "name": "python",
   "nbconvert_exporter": "python",
   "pygments_lexer": "ipython3",
   "version": "3.8.18"
  }
 },
 "nbformat": 4,
 "nbformat_minor": 5
}
