{
 "cells": [
  {
   "cell_type": "code",
   "execution_count": 12,
   "id": "626c6f09-85eb-4bbb-8d6d-6c3c7cae59d6",
   "metadata": {},
   "outputs": [],
   "source": [
    "from pyspark.sql import SparkSession"
   ]
  },
  {
   "cell_type": "code",
   "execution_count": 13,
   "id": "573800cd-a1e1-455f-ac60-a464a7cb24a8",
   "metadata": {},
   "outputs": [
    {
     "name": "stdout",
     "output_type": "stream",
     "text": [
      "/var/hoodie/ws/docker/hoodie/hadoop/hive_base/target/hoodie-spark-bundle.jar\n"
     ]
    }
   ],
   "source": [
    "import os\n",
    "print(os.environ.get(\"HUDI_SPARK_BUNDLE\"))\n",
    "\n",
    "HUDI_SPARK_BUNDLE = os.environ.get(\"HUDI_SPARK_BUNDLE\")"
   ]
  },
  {
   "cell_type": "code",
   "execution_count": 14,
   "id": "a1ed125e-94f9-4632-8aa5-1d88a6f2be94",
   "metadata": {},
   "outputs": [],
   "source": [
    "spark = SparkSession.builder.appName('HudiCRUD').config(\"spark.jars\", HUDI_SPARK_BUNDLE).config(\"spark.serializer\", \"org.apache.spark.serializer.KryoSerializer\").config(\"spark.sql.extensions\", \"org.apache.spark.sql.hudi.HoodieSparkSessionExtension\").config(\"spark.sql.catalog.spark_catalog\", \"org.apache.spark.sql.hudi.catalog.HoodieCatalog\").config(\"spark.sql.hive.convertMetastoreParquet\", \"false\").getOrCreate()"
   ]
  },
  {
   "cell_type": "code",
   "execution_count": 15,
   "id": "c3f9ae85-7a27-4878-9e8e-53d11db1851f",
   "metadata": {},
   "outputs": [],
   "source": [
    "columns = [\"id\",\"creation_date\", \"status\", \"last_update_time\"]\n",
    "data = [\n",
    "    (\"100\", \"2015-01-01\", \"unprocessed\", \"2015-01-01T13:51:39.340396Z\"),\n",
    "    (\"101\", \"2015-01-01\", \"unprocessed\", \"2015-01-01T12:14:58.597216Z\"),\n",
    "    (\"102\", \"2015-01-01\", \"unprocessed\", \"2015-01-01T13:51:40.417052Z\"),\n",
    "    (\"103\", \"2015-01-01\", \"unprocessed\", \"2015-01-01T13:51:40.519832Z\"),\n",
    "    (\"104\", \"2015-01-02\", \"unprocessed\", \"2015-01-01T12:15:00.512679Z\"),\n",
    "    (\"105\", \"2015-01-02\", \"unprocessed\", \"2015-01-01T13:51:42.248818Z\")\n",
    "]"
   ]
  },
  {
   "cell_type": "code",
   "execution_count": 16,
   "id": "614c5ff1-56d1-49fe-ba87-dff0bbab19e4",
   "metadata": {},
   "outputs": [
    {
     "name": "stdout",
     "output_type": "stream",
     "text": [
      "+---+-------------+-----------+---------------------------+\n",
      "|id |creation_date|status     |last_update_time           |\n",
      "+---+-------------+-----------+---------------------------+\n",
      "|100|2015-01-01   |unprocessed|2015-01-01T13:51:39.340396Z|\n",
      "|101|2015-01-01   |unprocessed|2015-01-01T12:14:58.597216Z|\n",
      "|102|2015-01-01   |unprocessed|2015-01-01T13:51:40.417052Z|\n",
      "|103|2015-01-01   |unprocessed|2015-01-01T13:51:40.519832Z|\n",
      "|104|2015-01-02   |unprocessed|2015-01-01T12:15:00.512679Z|\n",
      "|105|2015-01-02   |unprocessed|2015-01-01T13:51:42.248818Z|\n",
      "+---+-------------+-----------+---------------------------+\n",
      "\n"
     ]
    }
   ],
   "source": [
    "inputDF = spark.createDataFrame(data).toDF(*columns)\n",
    "inputDF.show(truncate = False)"
   ]
  },
  {
   "cell_type": "code",
   "execution_count": 17,
   "id": "0ad082e0-c9c9-4614-916c-0894fd9f03c5",
   "metadata": {},
   "outputs": [
    {
     "name": "stdout",
     "output_type": "stream",
     "text": [
      "/var/hoodie/ws/docker/hoodie/hadoop/hive_base/target/hoodie-spark-bundle.jar\n"
     ]
    }
   ],
   "source": [
    "!echo $HUDI_SPARK_BUNDLE"
   ]
  },
  {
   "cell_type": "code",
   "execution_count": 1,
   "id": "e8463fa8-27fe-447a-b978-fd61a450c7b6",
   "metadata": {},
   "outputs": [],
   "source": [
    "table_name = \"ztest_hudi_table_cow\"\n",
    "base_path = f\"hdfs:///tmp/{table_name}\""
   ]
  },
  {
   "cell_type": "markdown",
   "id": "be785161-c656-4844-a2a8-3200f0a375c3",
   "metadata": {},
   "source": [
    "# HUDI Configuration"
   ]
  },
  {
   "cell_type": "code",
   "execution_count": 19,
   "id": "16f199e2-4b96-4c88-b816-fdfc0f637961",
   "metadata": {},
   "outputs": [],
   "source": [
    "hudi_conf = {\n",
    "    \"hoodie.table.name\": table_name,\n",
    "    \"hoodie.datasource.write.recordkey.field\": \"id\",\n",
    "    \"hoodie.datasource.write.storage.type\": \"COPY_ON_WRITE\",\n",
    "    \"hoodie.datasource.write.partitionpath.field\": \"creation_date\",\n",
    "    \"hoodie.datasource.write.precombine.field\": \"last_update_time\",\n",
    "    \"hoodie.datasource.write.operation\": \"insert\",\n",
    "    \"hoodie.write.markers.type\": \"DIRECT\",\n",
    "    \"hoodie.datasource.write.hive_style_partitioning\": \"true\"\n",
    "}"
   ]
  },
  {
   "cell_type": "code",
   "execution_count": 20,
   "id": "caffd3a3-e890-4231-9f61-3febd243fdd8",
   "metadata": {},
   "outputs": [
    {
     "name": "stderr",
     "output_type": "stream",
     "text": [
      "25/08/11 17:32:16 WARN DataSourceOptionsHelper$: hoodie.datasource.write.storage.type is deprecated and will be removed in a later release; Please use hoodie.datasource.write.table.type\n",
      "25/08/11 17:32:16 WARN DataSourceOptionsHelper$: hoodie.datasource.write.storage.type is deprecated and will be removed in a later release; Please use hoodie.datasource.write.table.type\n",
      "25/08/11 17:32:24 WARN HoodieStorage: Fail to rename hdfs:/tmp/ztest_hudi_table_cow/.hoodie/metadata/column_stats/.hoodie_partition_metadata.66cefcb9-b589-46cf-b30c-1b2bea5550ef to hdfs:/tmp/ztest_hudi_table_cow/.hoodie/metadata/column_stats/.hoodie_partition_metadata, target file exists: true\n",
      "                                                                                "
     ]
    }
   ],
   "source": [
    "# Write the DataFrame to a Hudi COW table\n",
    "inputDF.write \\\n",
    "    .format(\"hudi\") \\\n",
    "    .options(**hudi_conf) \\\n",
    "    .mode(\"overwrite\") \\\n",
    "    .save(base_path)"
   ]
  },
  {
   "cell_type": "code",
   "execution_count": 21,
   "id": "e697eda2-7138-4a46-8d35-6b0c9e53e18f",
   "metadata": {},
   "outputs": [
    {
     "name": "stdout",
     "output_type": "stream",
     "text": [
      "+-------------------+---------------------+------------------+------------------------+-------------------------------------------------------------------------+---+-------------+-----------+---------------------------+\n",
      "|_hoodie_commit_time|_hoodie_commit_seqno |_hoodie_record_key|_hoodie_partition_path  |_hoodie_file_name                                                        |id |creation_date|status     |last_update_time           |\n",
      "+-------------------+---------------------+------------------+------------------------+-------------------------------------------------------------------------+---+-------------+-----------+---------------------------+\n",
      "|20250811173216666  |20250811173216666_0_0|100               |creation_date=2015-01-01|af4fcb4f-856f-4155-beb3-588961cf5310-0_0-65-151_20250811173216666.parquet|100|2015-01-01   |unprocessed|2015-01-01T13:51:39.340396Z|\n",
      "|20250811173216666  |20250811173216666_0_1|101               |creation_date=2015-01-01|af4fcb4f-856f-4155-beb3-588961cf5310-0_0-65-151_20250811173216666.parquet|101|2015-01-01   |unprocessed|2015-01-01T12:14:58.597216Z|\n",
      "|20250811173216666  |20250811173216666_0_2|102               |creation_date=2015-01-01|af4fcb4f-856f-4155-beb3-588961cf5310-0_0-65-151_20250811173216666.parquet|102|2015-01-01   |unprocessed|2015-01-01T13:51:40.417052Z|\n",
      "|20250811173216666  |20250811173216666_0_3|103               |creation_date=2015-01-01|af4fcb4f-856f-4155-beb3-588961cf5310-0_0-65-151_20250811173216666.parquet|103|2015-01-01   |unprocessed|2015-01-01T13:51:40.519832Z|\n",
      "|20250811173216666  |20250811173216666_1_0|104               |creation_date=2015-01-02|f0678c65-f301-4035-aed2-7f545a5cd1f6-0_1-65-152_20250811173216666.parquet|104|2015-01-02   |unprocessed|2015-01-01T12:15:00.512679Z|\n",
      "|20250811173216666  |20250811173216666_1_1|105               |creation_date=2015-01-02|f0678c65-f301-4035-aed2-7f545a5cd1f6-0_1-65-152_20250811173216666.parquet|105|2015-01-02   |unprocessed|2015-01-01T13:51:42.248818Z|\n",
      "+-------------------+---------------------+------------------+------------------------+-------------------------------------------------------------------------+---+-------------+-----------+---------------------------+\n",
      "\n"
     ]
    }
   ],
   "source": [
    "spark.read.format(\"hudi\").load(base_path).show(truncate = False)"
   ]
  },
  {
   "cell_type": "code",
   "execution_count": null,
   "id": "a2a59aab-7eec-4324-9913-92914beb83a2",
   "metadata": {},
   "outputs": [],
   "source": []
  }
 ],
 "metadata": {
  "kernelspec": {
   "display_name": "Python 3 (ipykernel)",
   "language": "python",
   "name": "python3"
  },
  "language_info": {
   "codemirror_mode": {
    "name": "ipython",
    "version": 3
   },
   "file_extension": ".py",
   "mimetype": "text/x-python",
   "name": "python",
   "nbconvert_exporter": "python",
   "pygments_lexer": "ipython3",
   "version": "3.8.18"
  }
 },
 "nbformat": 4,
 "nbformat_minor": 5
}
