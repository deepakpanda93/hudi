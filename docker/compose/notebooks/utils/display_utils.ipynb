{
 "cells": [
  {
   "cell_type": "code",
   "execution_count": 2,
   "id": "ca481594-a3a0-409b-944f-157fb30acfab",
   "metadata": {},
   "outputs": [],
   "source": [
    "from IPython.display import display as display_html, HTML"
   ]
  },
  {
   "cell_type": "code",
   "execution_count": 3,
   "id": "068749eb-d92f-4695-9cb7-43c16caf33c9",
   "metadata": {},
   "outputs": [],
   "source": [
    "def display(df, num_rows=100, truncate=False):\n",
    "    \"\"\"\n",
    "    Displays a PySpark DataFrame in a formatted HTML table.\n",
    "\n",
    "    This function is designed to mimic the Databricks 'display' function by\n",
    "    presenting a sample of the DataFrame in a clean, readable table format\n",
    "    using HTML and Tailwind CSS for styling.\n",
    "\n",
    "    Args:\n",
    "        df (pyspark.sql.DataFrame): The PySpark DataFrame to display.\n",
    "        num_rows (int): The number of rows to show. Defaults to 100.\n",
    "        truncate (bool): Whether to truncate the output of long strings.\n",
    "                         This argument is not currently used for simplicity\n",
    "                         but can be added for more advanced functionality.\n",
    "    \"\"\"\n",
    "    \n",
    "    # Collect a limited number of rows to the driver as a Pandas DataFrame\n",
    "    try:\n",
    "        pandas_df = df.limit(num_rows).toPandas()\n",
    "    except Exception as e:\n",
    "        print(f\"Error converting DataFrame to Pandas: {e}\")\n",
    "        return\n",
    "\n",
    "    # Use pandas to_html to get a clean table, then add custom styling.\n",
    "    # The styling uses Tailwind CSS classes for a clean, modern look.\n",
    "    html_table = pandas_df.to_html(index=False, classes=[\n",
    "        \"w-full\", \"border-collapse\", \"text-sm\", \"text-gray-900\", \"dark:text-white\"\n",
    "    ])\n",
    "\n",
    "    # We are adding custom styling here to make it look like a well-formatted blog post table.\n",
    "    custom_css = \"\"\"\n",
    "    <style>\n",
    "        .dataframe {\n",
    "            border-radius: 0.5rem;\n",
    "            box-shadow: 0 4px 6px -1px rgba(0, 0, 0, 0.1), 0 2px 4px -1px rgba(0, 0, 0, 0.06);\n",
    "            overflow-x: auto;\n",
    "            border: 1px solid #e2e8f0;\n",
    "        }\n",
    "        .dataframe th {\n",
    "            background-color: #f1f5f9;\n",
    "            color: #1f2937;\n",
    "            font-weight: 600;\n",
    "            padding: 0.75rem 1.5rem;\n",
    "            text-align: left;\n",
    "            border-bottom: 2px solid #e2e8f0;\n",
    "        }\n",
    "        .dataframe td {\n",
    "            padding: 0.75rem 1.5rem;\n",
    "            border-bottom: 1px solid #e2e8f0;\n",
    "        }\n",
    "        .dataframe tr:nth-child(even) {\n",
    "            background-color: #f8fafc;\n",
    "        }\n",
    "        .dataframe tr:hover {\n",
    "            background-color: #e2e8f0;\n",
    "            transition: background-color 0.2s ease-in-out;\n",
    "        }\n",
    "    </style>\n",
    "    \"\"\"\n",
    "    \n",
    "    # Display the final HTML\n",
    "    display_html(HTML(custom_css + html_table))\n",
    "\n",
    "# Example usage with your data\n",
    "# display(inputDF)"
   ]
  },
  {
   "cell_type": "code",
   "execution_count": null,
   "id": "e9ee8367-88eb-4fb8-a7d1-0eaa89476bcc",
   "metadata": {},
   "outputs": [],
   "source": []
  }
 ],
 "metadata": {
  "kernelspec": {
   "display_name": "Python 3 (ipykernel)",
   "language": "python",
   "name": "python3"
  },
  "language_info": {
   "codemirror_mode": {
    "name": "ipython",
    "version": 3
   },
   "file_extension": ".py",
   "mimetype": "text/x-python",
   "name": "python",
   "nbconvert_exporter": "python",
   "pygments_lexer": "ipython3",
   "version": "3.8.18"
  }
 },
 "nbformat": 4,
 "nbformat_minor": 5
}
