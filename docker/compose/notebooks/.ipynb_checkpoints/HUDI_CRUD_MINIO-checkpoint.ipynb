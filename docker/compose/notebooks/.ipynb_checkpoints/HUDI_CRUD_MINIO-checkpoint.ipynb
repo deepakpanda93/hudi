{
 "cells": [
  {
   "cell_type": "code",
   "execution_count": 1,
   "id": "0eb582f9-289f-426f-9f73-250ad5a84a71",
   "metadata": {},
   "outputs": [],
   "source": [
    "from pyspark.sql import SparkSession\n",
    "import os"
   ]
  },
  {
   "cell_type": "code",
   "execution_count": 2,
   "id": "649e2743-0c50-4941-9fec-6020ab7ddee8",
   "metadata": {},
   "outputs": [],
   "source": [
    "HUDI_SPARK_BUNDLE = os.environ.get(\"HUDI_SPARK_BUNDLE\")\n",
    "HADOOP_S3_JAR = \"/opt/spark/jars/hadoop-aws-3.3.4.jar,/opt/spark/jars/aws-java-sdk-bundle-1.12.734.jar\"\n",
    "\n",
    "ALL_JARS = f\"{HUDI_SPARK_BUNDLE},{HADOOP_S3_JAR}\""
   ]
  },
  {
   "cell_type": "code",
   "execution_count": 3,
   "id": "bacb32a6-1b19-45ae-a802-2570eca53eb7",
   "metadata": {},
   "outputs": [
    {
     "name": "stderr",
     "output_type": "stream",
     "text": [
      "25/08/12 09:13:29 WARN NativeCodeLoader: Unable to load native-hadoop library for your platform... using builtin-java classes where applicable\n",
      "Setting default log level to \"WARN\".\n",
      "To adjust logging level use sc.setLogLevel(newLevel). For SparkR, use setLogLevel(newLevel).\n"
     ]
    }
   ],
   "source": [
    "spark = SparkSession.builder \\\n",
    "    .appName('HudiCRUD') \\\n",
    "    .config(\"spark.jars\", ALL_JARS) \\\n",
    "    .config(\"spark.serializer\", \"org.apache.spark.serializer.KryoSerializer\") \\\n",
    "    .config(\"spark.sql.extensions\", \"org.apache.spark.sql.hudi.HoodieSparkSessionExtension\") \\\n",
    "    .config(\"spark.sql.catalog.spark_catalog\", \"org.apache.spark.sql.hudi.catalog.HoodieCatalog\") \\\n",
    "    .config(\"spark.sql.hive.convertMetastoreParquet\", \"false\") \\\n",
    "    .config(\"spark.hadoop.fs.s3a.endpoint\", \"http://minio:9090\") \\\n",
    "    .config(\"spark.hadoop.fs.s3a.access.key\", \"minio\") \\\n",
    "    .config(\"spark.hadoop.fs.s3a.secret.key\", \"minio123\") \\\n",
    "    .config(\"spark.hadoop.fs.s3a.path.style.access\", \"true\") \\\n",
    "    .config(\"spark.hadoop.fs.s3a.impl\", \"org.apache.hadoop.fs.s3a.S3AFileSystem\") \\\n",
    "    .config(\"spark.hadoop.fs.s3a.connection.ssl.enabled\", \"false\") \\\n",
    "    .getOrCreate()"
   ]
  },
  {
   "cell_type": "code",
   "execution_count": 4,
   "id": "fe37a314-a905-4a7c-ac76-7e9c46351710",
   "metadata": {},
   "outputs": [],
   "source": [
    "columns = [\"id\",\"creation_date\", \"status\", \"last_update_time\"]\n",
    "data = [\n",
    "    (\"100\", \"2015-01-01\", \"unprocessed\", \"2015-01-01T13:51:39.340396Z\"),\n",
    "    (\"101\", \"2015-01-01\", \"unprocessed\", \"2015-01-01T12:14:58.597216Z\"),\n",
    "    (\"102\", \"2015-01-01\", \"unprocessed\", \"2015-01-01T13:51:40.417052Z\"),\n",
    "    (\"103\", \"2015-01-01\", \"unprocessed\", \"2015-01-01T13:51:40.519832Z\"),\n",
    "    (\"104\", \"2015-01-02\", \"unprocessed\", \"2015-01-01T12:15:00.512679Z\"),\n",
    "    (\"105\", \"2015-01-02\", \"unprocessed\", \"2015-01-01T13:51:42.248818Z\")\n",
    "]"
   ]
  },
  {
   "cell_type": "code",
   "execution_count": 5,
   "id": "c1da470c-62da-44c6-9228-05b45a14e9ac",
   "metadata": {},
   "outputs": [
    {
     "name": "stderr",
     "output_type": "stream",
     "text": [
      "25/08/12 09:13:31 WARN DFSPropertiesConfiguration: Properties file file:/etc/hudi/conf/hudi-defaults.conf not found. Ignoring to load props file\n",
      "25/08/12 09:13:31 WARN DFSPropertiesConfiguration: Cannot find HUDI_CONF_DIR, please set it as the dir of hudi-defaults.conf\n",
      "                                                                                "
     ]
    },
    {
     "name": "stdout",
     "output_type": "stream",
     "text": [
      "+---+-------------+-----------+---------------------------+\n",
      "|id |creation_date|status     |last_update_time           |\n",
      "+---+-------------+-----------+---------------------------+\n",
      "|100|2015-01-01   |unprocessed|2015-01-01T13:51:39.340396Z|\n",
      "|101|2015-01-01   |unprocessed|2015-01-01T12:14:58.597216Z|\n",
      "|102|2015-01-01   |unprocessed|2015-01-01T13:51:40.417052Z|\n",
      "|103|2015-01-01   |unprocessed|2015-01-01T13:51:40.519832Z|\n",
      "|104|2015-01-02   |unprocessed|2015-01-01T12:15:00.512679Z|\n",
      "|105|2015-01-02   |unprocessed|2015-01-01T13:51:42.248818Z|\n",
      "+---+-------------+-----------+---------------------------+\n",
      "\n"
     ]
    }
   ],
   "source": [
    "inputDF = spark.createDataFrame(data).toDF(*columns)\n",
    "inputDF.show(truncate = False)"
   ]
  },
  {
   "cell_type": "code",
   "execution_count": 6,
   "id": "95ea7211-4768-49e5-8576-e0e5e7b87bc6",
   "metadata": {},
   "outputs": [],
   "source": [
    "table_name = \"minio_hudi_table_mor\"\n",
    "base_path = f\"s3a://warehouse/hudi-db\""
   ]
  },
  {
   "cell_type": "code",
   "execution_count": 7,
   "id": "7fb2d37f-f1d5-4105-b690-815fdf29cb7d",
   "metadata": {},
   "outputs": [],
   "source": [
    "hudi_conf = {\n",
    "    \"hoodie.table.name\": table_name,\n",
    "    \"hoodie.datasource.write.recordkey.field\": \"id\",\n",
    "    \"hoodie.datasource.write.storage.type\": \"MERGE_ON_READ\",\n",
    "    \"hoodie.datasource.write.partitionpath.field\": \"creation_date\",\n",
    "    \"hoodie.datasource.write.precombine.field\": \"last_update_time\",\n",
    "    \"hoodie.datasource.write.operation\": \"insert\",\n",
    "    \"hoodie.write.markers.type\": \"DIRECT\",\n",
    "    \"hoodie.datasource.write.hive_style_partitioning\": \"true\"\n",
    "}"
   ]
  },
  {
   "cell_type": "code",
   "execution_count": 8,
   "id": "037b6350-c696-4ddc-8c27-19b1f041af0b",
   "metadata": {},
   "outputs": [
    {
     "name": "stderr",
     "output_type": "stream",
     "text": [
      "25/08/12 09:13:34 WARN DataSourceOptionsHelper$: hoodie.datasource.write.storage.type is deprecated and will be removed in a later release; Please use hoodie.datasource.write.table.type\n",
      "25/08/12 09:13:34 WARN DataSourceOptionsHelper$: hoodie.datasource.write.storage.type is deprecated and will be removed in a later release; Please use hoodie.datasource.write.table.type\n",
      "25/08/12 09:13:35 WARN S3ABlockOutputStream: Application invoked the Syncable API against stream writing to hudi-db/minio_hudi_table_mor/.hoodie/metadata/files/.files-0000-0_00000000000000000.log.1_0-0-0. This is unsupported\n"
     ]
    },
    {
     "name": "stdout",
     "output_type": "stream",
     "text": [
      "# WARNING: Unable to attach Serviceability Agent. Unable to attach even with module exceptions: [org.apache.hudi.org.openjdk.jol.vm.sa.SASupportException: Sense failed., org.apache.hudi.org.openjdk.jol.vm.sa.SASupportException: Sense failed., org.apache.hudi.org.openjdk.jol.vm.sa.SASupportException: Sense failed.]\n"
     ]
    }
   ],
   "source": [
    "# Write the DataFrame to a Hudi COW table\n",
    "inputDF.write \\\n",
    "    .format(\"hudi\") \\\n",
    "    .options(**hudi_conf) \\\n",
    "    .mode(\"overwrite\") \\\n",
    "    .save(f\"{base_path}/{table_name}\")"
   ]
  },
  {
   "cell_type": "code",
   "execution_count": 9,
   "id": "3866d375-31f2-4465-a091-e6a0e2c117a0",
   "metadata": {},
   "outputs": [
    {
     "name": "stdout",
     "output_type": "stream",
     "text": [
      "/var/hoodie/ws/docker/hoodie/hadoop/hive_base/target/hoodie-spark-bundle.jar,/opt/spark/jars/hadoop-aws-3.3.4.jar,/opt/spark/jars/aws-java-sdk-bundle-1.12.734.jar\n"
     ]
    }
   ],
   "source": [
    "print(spark.sparkContext._conf.get(\"spark.jars\"))"
   ]
  }
 ],
 "metadata": {
  "kernelspec": {
   "display_name": "Python 3 (ipykernel)",
   "language": "python",
   "name": "python3"
  },
  "language_info": {
   "codemirror_mode": {
    "name": "ipython",
    "version": 3
   },
   "file_extension": ".py",
   "mimetype": "text/x-python",
   "name": "python",
   "nbconvert_exporter": "python",
   "pygments_lexer": "ipython3",
   "version": "3.8.18"
  }
 },
 "nbformat": 4,
 "nbformat_minor": 5
}
