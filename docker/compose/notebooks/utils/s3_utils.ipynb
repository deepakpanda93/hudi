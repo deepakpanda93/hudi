{
 "cells": [
  {
   "cell_type": "code",
   "execution_count": 1,
   "id": "e777f304-ee24-40cc-9eb5-891b060975a9",
   "metadata": {},
   "outputs": [],
   "source": [
    "from py4j.java_gateway import java_import\n",
    "\n",
    "def ls(path):\n",
    "    \"\"\"\n",
    "    List files or directories at the given MinIO S3 path.\n",
    "    \n",
    "    Example: ls(\"s3a://warehouse/hudi_table/\")\n",
    "    \"\"\"\n",
    "    hadoop_conf = spark._jsc.hadoopConfiguration()\n",
    "    fs = spark._jvm.org.apache.hadoop.fs.FileSystem.get(hadoop_conf)\n",
    "    p = spark._jvm.org.apache.hadoop.fs.Path(path)\n",
    "\n",
    "    if not fs.exists(p):\n",
    "        print(f\"Path does not exist: {path}\")\n",
    "        return []\n",
    "\n",
    "    status = fs.listStatus(p)\n",
    "    files = [str(file.getPath()) for file in status]\n",
    "    for f in files:\n",
    "        print(f)\n",
    "    #return files"
   ]
  }
 ],
 "metadata": {
  "kernelspec": {
   "display_name": "Python 3 (ipykernel)",
   "language": "python",
   "name": "python3"
  },
  "language_info": {
   "codemirror_mode": {
    "name": "ipython",
    "version": 3
   },
   "file_extension": ".py",
   "mimetype": "text/x-python",
   "name": "python",
   "nbconvert_exporter": "python",
   "pygments_lexer": "ipython3",
   "version": "3.8.18"
  }
 },
 "nbformat": 4,
 "nbformat_minor": 5
}
