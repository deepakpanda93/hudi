{
 "cells": [
  {
   "cell_type": "code",
   "execution_count": 8,
   "id": "f6a52513-3901-46fd-ac46-ad5aaa7f7cd9",
   "metadata": {},
   "outputs": [],
   "source": [
    "from py4j.java_gateway import java_import\n",
    "from datetime import datetime\n",
    "\n",
    "def list_all(path):\n",
    "    \"\"\"\n",
    "    List files or directories at the given MinIO S3 path with details.\n",
    "    \"\"\"\n",
    "    hadoop_conf = spark._jsc.hadoopConfiguration()\n",
    "    fs = spark._jvm.org.apache.hadoop.fs.FileSystem.get(hadoop_conf)\n",
    "    p = spark._jvm.org.apache.hadoop.fs.Path(path)\n",
    "\n",
    "    if not fs.exists(p):\n",
    "        print(f\"Path does not exist: {path}\")\n",
    "        return []\n",
    "\n",
    "    status = fs.listStatus(p)\n",
    "    #print(f\"{'Path':<50} {'Size':<15} {'Modification Time'}\")\n",
    "    #print(\"-\" * 80)\n",
    "    for file in status:\n",
    "        file_path = str(file.getPath())\n",
    "        file_size = file.getLen()\n",
    "        mod_time_ms = file.getModificationTime()\n",
    "        mod_time = datetime.fromtimestamp(mod_time_ms / 1000)\n",
    "\n",
    "        # Handle size display for files vs. directories\n",
    "        size_display = str(file_size) if not file.isDirectory() else '-'\n",
    "\n",
    "        print(f\"{file_path:<50} {size_display:<10} {mod_time}\")"
   ]
  }
 ],
 "metadata": {
  "kernelspec": {
   "display_name": "Python 3 (ipykernel)",
   "language": "python",
   "name": "python3"
  },
  "language_info": {
   "codemirror_mode": {
    "name": "ipython",
    "version": 3
   },
   "file_extension": ".py",
   "mimetype": "text/x-python",
   "name": "python",
   "nbconvert_exporter": "python",
   "pygments_lexer": "ipython3",
   "version": "3.8.18"
  }
 },
 "nbformat": 4,
 "nbformat_minor": 5
}
