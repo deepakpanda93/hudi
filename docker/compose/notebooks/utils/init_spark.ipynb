{
 "cells": [
  {
   "cell_type": "code",
   "execution_count": 1,
   "id": "19531c53-bd69-45f9-b655-4d6c9bc2eddc",
   "metadata": {},
   "outputs": [],
   "source": [
    "import os\n",
    "from pyspark.sql import SparkSession"
   ]
  },
  {
   "cell_type": "code",
   "execution_count": 6,
   "id": "5b8e63ae-63a5-4b2d-84e1-07baabd180fa",
   "metadata": {},
   "outputs": [],
   "source": [
    "HUDI_JAR = os.environ.get(\"HUDI_SPARK_BUNDLE\")\n",
    "if not HUDI_JAR:\n",
    "        raise EnvironmentError(\"HUDI_SPARK_BUNDLE environment variable not set\")\n",
    "\n",
    "HADOOP_S3_JAR = \"/opt/spark/jars/hadoop-aws-3.3.4.jar,/opt/spark/jars/aws-java-sdk-bundle-1.12.734.jar\"\n",
    "\n",
    "ALL_JARS = f\"{HUDI_JAR},{HADOOP_S3_JAR}\""
   ]
  },
  {
   "cell_type": "code",
   "execution_count": 1,
   "id": "1143c8be-a8e0-4a39-afe2-3b07667c3d29",
   "metadata": {},
   "outputs": [],
   "source": [
    "def get_spark(app_name=\"Hudi-Jupyter\"):\n",
    "    \"\"\"\n",
    "    Initialize a SparkSession with Hudi extensions.\n",
    "    \n",
    "    Parameters:\n",
    "    - app_name (str): Optional name for the Spark application.\n",
    "    \n",
    "    Returns:\n",
    "    - SparkSession object\n",
    "    \"\"\"\n",
    "    hudi_jar = os.environ.get(\"HUDI_SPARK_BUNDLE\")\n",
    "    if not hudi_jar:\n",
    "        raise EnvironmentError(\"HUDI_SPARK_BUNDLE environment variable not set\")\n",
    "\n",
    "    spark = SparkSession.builder \\\n",
    "        .appName('HudiCRUD') \\\n",
    "        .config(\"spark.jars\", ALL_JARS) \\\n",
    "        .config(\"spark.serializer\", \"org.apache.spark.serializer.KryoSerializer\") \\\n",
    "        .config(\"spark.sql.extensions\", \"org.apache.spark.sql.hudi.HoodieSparkSessionExtension\") \\\n",
    "        .config(\"spark.sql.catalog.spark_catalog\", \"org.apache.spark.sql.hudi.catalog.HoodieCatalog\") \\\n",
    "        .config(\"spark.sql.hive.convertMetastoreParquet\", \"false\") \\\n",
    "        .config(\"spark.hadoop.fs.s3a.endpoint\", \"http://minio:9090\") \\\n",
    "        .config(\"spark.hadoop.fs.s3a.access.key\", \"minio\") \\\n",
    "        .config(\"spark.hadoop.fs.s3a.secret.key\", \"minio123\") \\\n",
    "        .config(\"spark.hadoop.fs.s3a.path.style.access\", \"true\") \\\n",
    "        .config(\"spark.hadoop.fs.s3a.impl\", \"org.apache.hadoop.fs.s3a.S3AFileSystem\") \\\n",
    "        .config(\"spark.hadoop.fs.s3a.connection.ssl.enabled\", \"false\") \\\n",
    "        .config(\"spark.hadoop.fs.defaultFS\", \"s3a://warehouse\") \\\n",
    "        .enableHiveSupport() \\\n",
    "        .getOrCreate()\n",
    "\n",
    "    spark.sparkContext.setLogLevel(\"ERROR\")\n",
    "    print(f\"SparkSession started with app name: {app_name}\")\n",
    "    return spark"
   ]
  }
 ],
 "metadata": {
  "kernelspec": {
   "display_name": "Python 3 (ipykernel)",
   "language": "python",
   "name": "python3"
  },
  "language_info": {
   "codemirror_mode": {
    "name": "ipython",
    "version": 3
   },
   "file_extension": ".py",
   "mimetype": "text/x-python",
   "name": "python",
   "nbconvert_exporter": "python",
   "pygments_lexer": "ipython3",
   "version": "3.8.18"
  }
 },
 "nbformat": 4,
 "nbformat_minor": 5
}
